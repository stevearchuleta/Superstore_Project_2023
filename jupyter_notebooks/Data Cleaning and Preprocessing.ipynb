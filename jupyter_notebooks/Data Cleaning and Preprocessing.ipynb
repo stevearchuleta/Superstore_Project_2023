{
 "cells": [
  {
   "cell_type": "markdown",
   "id": "99b8c3f2",
   "metadata": {},
   "source": [
    "<h2 style=\"color:#4682B4\">Data Cleaning and Preprocessing</h2>\n"
   ]
  },
  {
   "cell_type": "markdown",
   "id": "728120a0",
   "metadata": {},
   "source": [
    "\n",
    "<div style=\"border-top: 3px solid black\"></div>\n"
   ]
  },
  {
   "cell_type": "markdown",
   "id": "8992dc71",
   "metadata": {},
   "source": [
    "<h3 style=\"color:#4682B4\">Importing libraries</h3>\n"
   ]
  },
  {
   "cell_type": "code",
   "execution_count": 1,
   "id": "c624f7a0",
   "metadata": {},
   "outputs": [
    {
     "data": {
      "application/javascript": [
       "\n",
       "            setTimeout(function() {\n",
       "                var nbb_cell_id = 1;\n",
       "                var nbb_unformatted_code = \"# this will help in making the Python code more structured automatically (good coding practice)\\n%load_ext nb_black\\nimport pandas as pd\\nimport numpy as np\\n\\nimport matplotlib.pyplot as plt\\nimport seaborn as sns\\n\\nsns.set()\\n\\n# handling dates and times\\nimport datetime\\n\\n# to do mathematical computations\\nimport math\\n\\n# a library for visualizing missing data can be very helpful when trying to understand the 'shape' of missing data.\\nimport missingno as msno\\n\\n# used for regular expressions, which can be very useful when cleaning text data\\nimport re\\n\\n# scikit-learn has a number of preprocessing functions that can scaling and normalizing data or encoding categorical variables\\nfrom sklearn.preprocessing import StandardScaler\\nfrom sklearn.preprocessing import MinMaxScaler\\nfrom sklearn.preprocessing import OneHotEncoder\\nfrom sklearn.preprocessing import LabelEncoder\\n\\n\\n# Removes the limit for the number of displayed columns\\npd.set_option(\\\"display.max_columns\\\", None)\\n# Sets the limit for the number of displayed rows\\npd.set_option(\\\"display.max_rows\\\", 200)\\n\\n\\n# to suppress warnings\\nimport warnings\\n\\nwarnings.filterwarnings(\\\"ignore\\\")\";\n",
       "                var nbb_formatted_code = \"# this will help in making the Python code more structured automatically (good coding practice)\\n%load_ext nb_black\\nimport pandas as pd\\nimport numpy as np\\n\\nimport matplotlib.pyplot as plt\\nimport seaborn as sns\\n\\nsns.set()\\n\\n# handling dates and times\\nimport datetime\\n\\n# to do mathematical computations\\nimport math\\n\\n# a library for visualizing missing data can be very helpful when trying to understand the 'shape' of missing data.\\nimport missingno as msno\\n\\n# used for regular expressions, which can be very useful when cleaning text data\\nimport re\\n\\n# scikit-learn has a number of preprocessing functions that can scaling and normalizing data or encoding categorical variables\\nfrom sklearn.preprocessing import StandardScaler\\nfrom sklearn.preprocessing import MinMaxScaler\\nfrom sklearn.preprocessing import OneHotEncoder\\nfrom sklearn.preprocessing import LabelEncoder\\n\\n\\n# Removes the limit for the number of displayed columns\\npd.set_option(\\\"display.max_columns\\\", None)\\n# Sets the limit for the number of displayed rows\\npd.set_option(\\\"display.max_rows\\\", 200)\\n\\n\\n# to suppress warnings\\nimport warnings\\n\\nwarnings.filterwarnings(\\\"ignore\\\")\";\n",
       "                var nbb_cells = Jupyter.notebook.get_cells();\n",
       "                for (var i = 0; i < nbb_cells.length; ++i) {\n",
       "                    if (nbb_cells[i].input_prompt_number == nbb_cell_id) {\n",
       "                        if (nbb_cells[i].get_text() == nbb_unformatted_code) {\n",
       "                             nbb_cells[i].set_text(nbb_formatted_code);\n",
       "                        }\n",
       "                        break;\n",
       "                    }\n",
       "                }\n",
       "            }, 500);\n",
       "            "
      ],
      "text/plain": [
       "<IPython.core.display.Javascript object>"
      ]
     },
     "metadata": {},
     "output_type": "display_data"
    }
   ],
   "source": [
    "# this will help in making the Python code more structured automatically (good coding practice)\n",
    "%load_ext nb_black\n",
    "import pandas as pd\n",
    "import numpy as np\n",
    "\n",
    "import matplotlib.pyplot as plt\n",
    "import seaborn as sns\n",
    "\n",
    "sns.set()\n",
    "\n",
    "# handling dates and times\n",
    "import datetime\n",
    "\n",
    "# to do mathematical computations\n",
    "import math\n",
    "\n",
    "# a library for visualizing missing data can be very helpful when trying to understand the 'shape' of missing data.\n",
    "import missingno as msno\n",
    "\n",
    "# used for regular expressions, which can be very useful when cleaning text data\n",
    "import re\n",
    "\n",
    "# scikit-learn has a number of preprocessing functions that can scaling and normalizing data or encoding categorical variables\n",
    "from sklearn.preprocessing import StandardScaler\n",
    "from sklearn.preprocessing import MinMaxScaler\n",
    "from sklearn.preprocessing import OneHotEncoder\n",
    "from sklearn.preprocessing import LabelEncoder\n",
    "\n",
    "\n",
    "# Removes the limit for the number of displayed columns\n",
    "pd.set_option(\"display.max_columns\", None)\n",
    "# Sets the limit for the number of displayed rows\n",
    "pd.set_option(\"display.max_rows\", 200)\n",
    "\n",
    "\n",
    "# to suppress warnings\n",
    "import warnings\n",
    "\n",
    "warnings.filterwarnings(\"ignore\")"
   ]
  },
  {
   "cell_type": "markdown",
   "id": "59fdfb30",
   "metadata": {},
   "source": [
    "\n",
    "<div style=\"border-top: 3px solid black\"></div>\n"
   ]
  },
  {
   "cell_type": "markdown",
   "id": "128aab49",
   "metadata": {},
   "source": [
    "<h3 style=\"color:#4682B4\">Loading dataset(s)</h3>\n"
   ]
  },
  {
   "cell_type": "code",
   "execution_count": 2,
   "id": "bd012c35",
   "metadata": {},
   "outputs": [
    {
     "name": "stdout",
     "output_type": "stream",
     "text": [
      "There are 24061 rows and 38 columns.\n"
     ]
    },
    {
     "data": {
      "application/javascript": [
       "\n",
       "            setTimeout(function() {\n",
       "                var nbb_cell_id = 2;\n",
       "                var nbb_unformatted_code = \"import pandas as pd\\n\\n# Load the csv files\\norders = pd.read_csv('C:/Users/steve/Documents/SuperStore_Project_2023/Superstore_Project_2023/data/orders.csv')\\nreturns = pd.read_csv('C:/Users/steve/Documents/SuperStore_Project_2023/Superstore_Project_2023/data/returns.csv')\\n\\n# Left Merge the dataframes to include all orders (whether or not tehy have a return\\n# This will include all rows from the orders dataframe and the matching rows from the returns dataframe. \\n# If there is no match, the result is NaN in the columns of the returns dataframe.\\ndf = pd.merge(orders, returns, on='order_id', how='left')\\n\\n\\n# f-string\\nprint(f\\\"There are {df.shape[0]} rows and {df.shape[1]} columns.\\\") \";\n",
       "                var nbb_formatted_code = \"import pandas as pd\\n\\n# Load the csv files\\norders = pd.read_csv(\\n    \\\"C:/Users/steve/Documents/SuperStore_Project_2023/Superstore_Project_2023/data/orders.csv\\\"\\n)\\nreturns = pd.read_csv(\\n    \\\"C:/Users/steve/Documents/SuperStore_Project_2023/Superstore_Project_2023/data/returns.csv\\\"\\n)\\n\\n# Left Merge the dataframes to include all orders (whether or not tehy have a return\\n# This will include all rows from the orders dataframe and the matching rows from the returns dataframe.\\n# If there is no match, the result is NaN in the columns of the returns dataframe.\\ndf = pd.merge(orders, returns, on=\\\"order_id\\\", how=\\\"left\\\")\\n\\n\\n# f-string\\nprint(f\\\"There are {df.shape[0]} rows and {df.shape[1]} columns.\\\")\";\n",
       "                var nbb_cells = Jupyter.notebook.get_cells();\n",
       "                for (var i = 0; i < nbb_cells.length; ++i) {\n",
       "                    if (nbb_cells[i].input_prompt_number == nbb_cell_id) {\n",
       "                        if (nbb_cells[i].get_text() == nbb_unformatted_code) {\n",
       "                             nbb_cells[i].set_text(nbb_formatted_code);\n",
       "                        }\n",
       "                        break;\n",
       "                    }\n",
       "                }\n",
       "            }, 500);\n",
       "            "
      ],
      "text/plain": [
       "<IPython.core.display.Javascript object>"
      ]
     },
     "metadata": {},
     "output_type": "display_data"
    }
   ],
   "source": [
    "import pandas as pd\n",
    "\n",
    "# Load the csv files\n",
    "orders = pd.read_csv('C:/Users/steve/Documents/SuperStore_Project_2023/Superstore_Project_2023/data/orders.csv')\n",
    "returns = pd.read_csv('C:/Users/steve/Documents/SuperStore_Project_2023/Superstore_Project_2023/data/returns.csv')\n",
    "\n",
    "# Left Merge the dataframes to include all orders (whether or not tehy have a return\n",
    "# This will include all rows from the orders dataframe and the matching rows from the returns dataframe. \n",
    "# If there is no match, the result is NaN in the columns of the returns dataframe.\n",
    "df = pd.merge(orders, returns, on='order_id', how='left')\n",
    "\n",
    "\n",
    "# f-string\n",
    "print(f\"There are {df.shape[0]} rows and {df.shape[1]} columns.\") \n"
   ]
  },
  {
   "cell_type": "markdown",
   "id": "6ad8fb1b",
   "metadata": {},
   "source": [
    "<div style=\"border-top: 3px solid black\"></div>\n"
   ]
  },
  {
   "cell_type": "markdown",
   "id": "0f910203",
   "metadata": {},
   "source": [
    "<h3 style=\"color:#4682B4\">Display a sample of the dataframe</h3>\n"
   ]
  },
  {
   "cell_type": "code",
   "execution_count": 3,
   "id": "18985d00",
   "metadata": {
    "scrolled": true
   },
   "outputs": [
    {
     "data": {
      "text/html": [
       "<div>\n",
       "<style scoped>\n",
       "    .dataframe tbody tr th:only-of-type {\n",
       "        vertical-align: middle;\n",
       "    }\n",
       "\n",
       "    .dataframe tbody tr th {\n",
       "        vertical-align: top;\n",
       "    }\n",
       "\n",
       "    .dataframe thead th {\n",
       "        text-align: right;\n",
       "    }\n",
       "</style>\n",
       "<table border=\"1\" class=\"dataframe\">\n",
       "  <thead>\n",
       "    <tr style=\"text-align: right;\">\n",
       "      <th></th>\n",
       "      <th>order_id</th>\n",
       "      <th>order_info_id</th>\n",
       "      <th>order_id_number</th>\n",
       "      <th>order_date</th>\n",
       "      <th>order_weekday</th>\n",
       "      <th>order_month</th>\n",
       "      <th>ship_date</th>\n",
       "      <th>ship_mode</th>\n",
       "      <th>product_id</th>\n",
       "      <th>category</th>\n",
       "      <th>sub_category</th>\n",
       "      <th>product_name</th>\n",
       "      <th>unit_cost</th>\n",
       "      <th>sales</th>\n",
       "      <th>profit</th>\n",
       "      <th>profit_margin</th>\n",
       "      <th>quantity</th>\n",
       "      <th>discount</th>\n",
       "      <th>discount_over_30</th>\n",
       "      <th>region_id</th>\n",
       "      <th>postal_code</th>\n",
       "      <th>city</th>\n",
       "      <th>state</th>\n",
       "      <th>sub_region</th>\n",
       "      <th>salesperson</th>\n",
       "      <th>customer_id</th>\n",
       "      <th>customer_name</th>\n",
       "      <th>segment</th>\n",
       "      <th>return_date</th>\n",
       "      <th>Category</th>\n",
       "      <th>Sales</th>\n",
       "      <th>Profit</th>\n",
       "      <th>Profit Margin</th>\n",
       "      <th>Margin Category</th>\n",
       "      <th>State</th>\n",
       "      <th>Customer Name</th>\n",
       "      <th>return_quantity</th>\n",
       "      <th>reason_returned</th>\n",
       "    </tr>\n",
       "  </thead>\n",
       "  <tbody>\n",
       "    <tr>\n",
       "      <th>9513</th>\n",
       "      <td>ID-2019-3822244</td>\n",
       "      <td>ID-2019</td>\n",
       "      <td>3822244</td>\n",
       "      <td>2019-06-15</td>\n",
       "      <td>Saturday</td>\n",
       "      <td>June</td>\n",
       "      <td>2019-06-15</td>\n",
       "      <td>Second Class</td>\n",
       "      <td>OFF-BI-10002446</td>\n",
       "      <td>Office Supplies</td>\n",
       "      <td>Binders</td>\n",
       "      <td>Wilson Jones Binder, Economy</td>\n",
       "      <td>7.81</td>\n",
       "      <td>7.81</td>\n",
       "      <td>0.10</td>\n",
       "      <td>0.012804</td>\n",
       "      <td>1</td>\n",
       "      <td>0.15</td>\n",
       "      <td>0</td>\n",
       "      <td>1488</td>\n",
       "      <td>48104</td>\n",
       "      <td>Ann Arbor</td>\n",
       "      <td>Michigan</td>\n",
       "      <td>Central United States</td>\n",
       "      <td>Annelise Williams</td>\n",
       "      <td>JH-15430</td>\n",
       "      <td>Jennifer Halladay</td>\n",
       "      <td>Consumer</td>\n",
       "      <td>NaN</td>\n",
       "      <td>NaN</td>\n",
       "      <td>NaN</td>\n",
       "      <td>NaN</td>\n",
       "      <td>NaN</td>\n",
       "      <td>NaN</td>\n",
       "      <td>NaN</td>\n",
       "      <td>NaN</td>\n",
       "      <td>NaN</td>\n",
       "      <td>NaN</td>\n",
       "    </tr>\n",
       "    <tr>\n",
       "      <th>9742</th>\n",
       "      <td>ID-2019-4558193</td>\n",
       "      <td>ID-2019</td>\n",
       "      <td>4558193</td>\n",
       "      <td>2019-07-01</td>\n",
       "      <td>Monday</td>\n",
       "      <td>July</td>\n",
       "      <td>2019-07-05</td>\n",
       "      <td>Standard Class</td>\n",
       "      <td>TEC-CO-10003102</td>\n",
       "      <td>Technology</td>\n",
       "      <td>Copiers</td>\n",
       "      <td>Canon Copy Machine, Color</td>\n",
       "      <td>158.15</td>\n",
       "      <td>1961.04</td>\n",
       "      <td>0.43</td>\n",
       "      <td>0.000219</td>\n",
       "      <td>8</td>\n",
       "      <td>0.50</td>\n",
       "      <td>1</td>\n",
       "      <td>1488</td>\n",
       "      <td>78745</td>\n",
       "      <td>Austin</td>\n",
       "      <td>Texas</td>\n",
       "      <td>Central United States</td>\n",
       "      <td>Annelise Williams</td>\n",
       "      <td>TT-21460</td>\n",
       "      <td>Tonja Turnell</td>\n",
       "      <td>Home Office</td>\n",
       "      <td>NaN</td>\n",
       "      <td>NaN</td>\n",
       "      <td>NaN</td>\n",
       "      <td>NaN</td>\n",
       "      <td>NaN</td>\n",
       "      <td>NaN</td>\n",
       "      <td>NaN</td>\n",
       "      <td>NaN</td>\n",
       "      <td>NaN</td>\n",
       "      <td>NaN</td>\n",
       "    </tr>\n",
       "    <tr>\n",
       "      <th>6685</th>\n",
       "      <td>ES-2019-3791943</td>\n",
       "      <td>ES-2019</td>\n",
       "      <td>3791943</td>\n",
       "      <td>2019-06-11</td>\n",
       "      <td>Tuesday</td>\n",
       "      <td>June</td>\n",
       "      <td>2019-06-11</td>\n",
       "      <td>Same Day</td>\n",
       "      <td>OFF-LA-10004737</td>\n",
       "      <td>Office Supplies</td>\n",
       "      <td>Labels</td>\n",
       "      <td>Avery Shipping Labels, 5000 Label Set</td>\n",
       "      <td>12.24</td>\n",
       "      <td>36.72</td>\n",
       "      <td>0.19</td>\n",
       "      <td>0.005174</td>\n",
       "      <td>3</td>\n",
       "      <td>0.25</td>\n",
       "      <td>0</td>\n",
       "      <td>1488</td>\n",
       "      <td>55407</td>\n",
       "      <td>Minneapolis</td>\n",
       "      <td>Minnesota</td>\n",
       "      <td>Central United States</td>\n",
       "      <td>Annelise Williams</td>\n",
       "      <td>BD-11770</td>\n",
       "      <td>Bryan Davis</td>\n",
       "      <td>Consumer</td>\n",
       "      <td>NaN</td>\n",
       "      <td>NaN</td>\n",
       "      <td>NaN</td>\n",
       "      <td>NaN</td>\n",
       "      <td>NaN</td>\n",
       "      <td>NaN</td>\n",
       "      <td>NaN</td>\n",
       "      <td>NaN</td>\n",
       "      <td>NaN</td>\n",
       "      <td>NaN</td>\n",
       "    </tr>\n",
       "    <tr>\n",
       "      <th>8725</th>\n",
       "      <td>ID-2019-1199603</td>\n",
       "      <td>ID-2019</td>\n",
       "      <td>1199603</td>\n",
       "      <td>2019-09-17</td>\n",
       "      <td>Tuesday</td>\n",
       "      <td>September</td>\n",
       "      <td>2019-09-19</td>\n",
       "      <td>Same Day</td>\n",
       "      <td>OFF-PA-10004946</td>\n",
       "      <td>Office Supplies</td>\n",
       "      <td>Paper</td>\n",
       "      <td>SanDisk Note Cards, Multicolor</td>\n",
       "      <td>33.96</td>\n",
       "      <td>36.00</td>\n",
       "      <td>0.24</td>\n",
       "      <td>0.006667</td>\n",
       "      <td>2</td>\n",
       "      <td>0.30</td>\n",
       "      <td>1</td>\n",
       "      <td>1488</td>\n",
       "      <td>60653</td>\n",
       "      <td>Chicago</td>\n",
       "      <td>Illinois</td>\n",
       "      <td>Central United States</td>\n",
       "      <td>Annelise Williams</td>\n",
       "      <td>NL-18310</td>\n",
       "      <td>Nancy Lomonaco</td>\n",
       "      <td>Home Office</td>\n",
       "      <td>NaN</td>\n",
       "      <td>NaN</td>\n",
       "      <td>NaN</td>\n",
       "      <td>NaN</td>\n",
       "      <td>NaN</td>\n",
       "      <td>NaN</td>\n",
       "      <td>NaN</td>\n",
       "      <td>NaN</td>\n",
       "      <td>NaN</td>\n",
       "      <td>NaN</td>\n",
       "    </tr>\n",
       "    <tr>\n",
       "      <th>15069</th>\n",
       "      <td>IT-2019-582237</td>\n",
       "      <td>IT-2019</td>\n",
       "      <td>582237</td>\n",
       "      <td>2019-05-27</td>\n",
       "      <td>Monday</td>\n",
       "      <td>May</td>\n",
       "      <td>2019-05-28</td>\n",
       "      <td>Second Class</td>\n",
       "      <td>OFF-BI-10001984</td>\n",
       "      <td>Office Supplies</td>\n",
       "      <td>Binders</td>\n",
       "      <td>Ibico Binding Machine, Economy</td>\n",
       "      <td>51.42</td>\n",
       "      <td>154.26</td>\n",
       "      <td>0.29</td>\n",
       "      <td>0.001880</td>\n",
       "      <td>3</td>\n",
       "      <td>0.35</td>\n",
       "      <td>1</td>\n",
       "      <td>1488</td>\n",
       "      <td>78207</td>\n",
       "      <td>San Antonio</td>\n",
       "      <td>Texas</td>\n",
       "      <td>Central United States</td>\n",
       "      <td>Annelise Williams</td>\n",
       "      <td>AM-10360</td>\n",
       "      <td>Alice McCarthy</td>\n",
       "      <td>Corporate</td>\n",
       "      <td>NaN</td>\n",
       "      <td>NaN</td>\n",
       "      <td>NaN</td>\n",
       "      <td>NaN</td>\n",
       "      <td>NaN</td>\n",
       "      <td>NaN</td>\n",
       "      <td>NaN</td>\n",
       "      <td>NaN</td>\n",
       "      <td>NaN</td>\n",
       "      <td>NaN</td>\n",
       "    </tr>\n",
       "    <tr>\n",
       "      <th>11887</th>\n",
       "      <td>IN-2019-3414263</td>\n",
       "      <td>IN-2019</td>\n",
       "      <td>3414263</td>\n",
       "      <td>2019-11-26</td>\n",
       "      <td>Tuesday</td>\n",
       "      <td>November</td>\n",
       "      <td>2019-11-30</td>\n",
       "      <td>Second Class</td>\n",
       "      <td>OFF-BI-10002424</td>\n",
       "      <td>Office Supplies</td>\n",
       "      <td>Binders</td>\n",
       "      <td>Avery Binder, Economy</td>\n",
       "      <td>12.90</td>\n",
       "      <td>34.83</td>\n",
       "      <td>0.10</td>\n",
       "      <td>0.002871</td>\n",
       "      <td>3</td>\n",
       "      <td>0.15</td>\n",
       "      <td>0</td>\n",
       "      <td>1488</td>\n",
       "      <td>78207</td>\n",
       "      <td>San Antonio</td>\n",
       "      <td>Texas</td>\n",
       "      <td>Central United States</td>\n",
       "      <td>Annelise Williams</td>\n",
       "      <td>EJ-13720</td>\n",
       "      <td>Ed Jacobs</td>\n",
       "      <td>Consumer</td>\n",
       "      <td>NaN</td>\n",
       "      <td>NaN</td>\n",
       "      <td>NaN</td>\n",
       "      <td>NaN</td>\n",
       "      <td>NaN</td>\n",
       "      <td>NaN</td>\n",
       "      <td>NaN</td>\n",
       "      <td>NaN</td>\n",
       "      <td>NaN</td>\n",
       "      <td>NaN</td>\n",
       "    </tr>\n",
       "    <tr>\n",
       "      <th>13588</th>\n",
       "      <td>IN-2019-609649</td>\n",
       "      <td>IN-2019</td>\n",
       "      <td>609649</td>\n",
       "      <td>2019-11-04</td>\n",
       "      <td>Monday</td>\n",
       "      <td>November</td>\n",
       "      <td>2019-11-04</td>\n",
       "      <td>Second Class</td>\n",
       "      <td>OFF-BI-10002446</td>\n",
       "      <td>Office Supplies</td>\n",
       "      <td>Binders</td>\n",
       "      <td>Wilson Jones Binder, Economy</td>\n",
       "      <td>7.81</td>\n",
       "      <td>91.14</td>\n",
       "      <td>0.29</td>\n",
       "      <td>0.003182</td>\n",
       "      <td>7</td>\n",
       "      <td>0.35</td>\n",
       "      <td>1</td>\n",
       "      <td>1488</td>\n",
       "      <td>61107</td>\n",
       "      <td>Rockford</td>\n",
       "      <td>Illinois</td>\n",
       "      <td>Central United States</td>\n",
       "      <td>Annelise Williams</td>\n",
       "      <td>JO-15550</td>\n",
       "      <td>Jesus Ocampo</td>\n",
       "      <td>Home Office</td>\n",
       "      <td>NaN</td>\n",
       "      <td>NaN</td>\n",
       "      <td>NaN</td>\n",
       "      <td>NaN</td>\n",
       "      <td>NaN</td>\n",
       "      <td>NaN</td>\n",
       "      <td>NaN</td>\n",
       "      <td>NaN</td>\n",
       "      <td>NaN</td>\n",
       "      <td>NaN</td>\n",
       "    </tr>\n",
       "    <tr>\n",
       "      <th>3672</th>\n",
       "      <td>CA-2019-5436242</td>\n",
       "      <td>CA-2019</td>\n",
       "      <td>5436242</td>\n",
       "      <td>2019-09-28</td>\n",
       "      <td>Saturday</td>\n",
       "      <td>September</td>\n",
       "      <td>2019-10-03</td>\n",
       "      <td>Standard Class</td>\n",
       "      <td>OFF-AR-10000940</td>\n",
       "      <td>Office Supplies</td>\n",
       "      <td>Art</td>\n",
       "      <td>Newell 343</td>\n",
       "      <td>2.35</td>\n",
       "      <td>8.82</td>\n",
       "      <td>0.29</td>\n",
       "      <td>0.032880</td>\n",
       "      <td>3</td>\n",
       "      <td>0.35</td>\n",
       "      <td>1</td>\n",
       "      <td>1488</td>\n",
       "      <td>68104</td>\n",
       "      <td>Omaha</td>\n",
       "      <td>Nebraska</td>\n",
       "      <td>Central United States</td>\n",
       "      <td>Annelise Williams</td>\n",
       "      <td>SH-19975</td>\n",
       "      <td>Sally Hughsby</td>\n",
       "      <td>Corporate</td>\n",
       "      <td>NaN</td>\n",
       "      <td>NaN</td>\n",
       "      <td>NaN</td>\n",
       "      <td>NaN</td>\n",
       "      <td>NaN</td>\n",
       "      <td>NaN</td>\n",
       "      <td>NaN</td>\n",
       "      <td>NaN</td>\n",
       "      <td>NaN</td>\n",
       "      <td>NaN</td>\n",
       "    </tr>\n",
       "    <tr>\n",
       "      <th>17084</th>\n",
       "      <td>MX-2019-2806606</td>\n",
       "      <td>MX-2019</td>\n",
       "      <td>2806606</td>\n",
       "      <td>2019-06-18</td>\n",
       "      <td>Tuesday</td>\n",
       "      <td>June</td>\n",
       "      <td>2019-06-20</td>\n",
       "      <td>Same Day</td>\n",
       "      <td>OFF-SU-10001722</td>\n",
       "      <td>Office Supplies</td>\n",
       "      <td>Supplies</td>\n",
       "      <td>Stiletto Box Cutter, Easy Grip</td>\n",
       "      <td>25.06</td>\n",
       "      <td>15.04</td>\n",
       "      <td>0.05</td>\n",
       "      <td>0.003324</td>\n",
       "      <td>1</td>\n",
       "      <td>0.10</td>\n",
       "      <td>0</td>\n",
       "      <td>1488</td>\n",
       "      <td>78745</td>\n",
       "      <td>Austin</td>\n",
       "      <td>Texas</td>\n",
       "      <td>Central United States</td>\n",
       "      <td>Annelise Williams</td>\n",
       "      <td>KC-16255</td>\n",
       "      <td>Karen Carlisle</td>\n",
       "      <td>Corporate</td>\n",
       "      <td>NaN</td>\n",
       "      <td>NaN</td>\n",
       "      <td>NaN</td>\n",
       "      <td>NaN</td>\n",
       "      <td>NaN</td>\n",
       "      <td>NaN</td>\n",
       "      <td>NaN</td>\n",
       "      <td>NaN</td>\n",
       "      <td>NaN</td>\n",
       "      <td>NaN</td>\n",
       "    </tr>\n",
       "    <tr>\n",
       "      <th>10946</th>\n",
       "      <td>IN-2019-2017026</td>\n",
       "      <td>IN-2019</td>\n",
       "      <td>2017026</td>\n",
       "      <td>2019-09-10</td>\n",
       "      <td>Tuesday</td>\n",
       "      <td>September</td>\n",
       "      <td>2019-09-12</td>\n",
       "      <td>Same Day</td>\n",
       "      <td>OFF-LA-10000471</td>\n",
       "      <td>Office Supplies</td>\n",
       "      <td>Labels</td>\n",
       "      <td>Smead Shipping Labels, 5000 Label Set</td>\n",
       "      <td>10.80</td>\n",
       "      <td>84.00</td>\n",
       "      <td>0.19</td>\n",
       "      <td>0.002262</td>\n",
       "      <td>7</td>\n",
       "      <td>0.25</td>\n",
       "      <td>0</td>\n",
       "      <td>1488</td>\n",
       "      <td>48185</td>\n",
       "      <td>Westland</td>\n",
       "      <td>Michigan</td>\n",
       "      <td>Central United States</td>\n",
       "      <td>Annelise Williams</td>\n",
       "      <td>SC-20380</td>\n",
       "      <td>Shahid Collister</td>\n",
       "      <td>Consumer</td>\n",
       "      <td>NaN</td>\n",
       "      <td>NaN</td>\n",
       "      <td>NaN</td>\n",
       "      <td>NaN</td>\n",
       "      <td>NaN</td>\n",
       "      <td>NaN</td>\n",
       "      <td>NaN</td>\n",
       "      <td>NaN</td>\n",
       "      <td>NaN</td>\n",
       "      <td>NaN</td>\n",
       "    </tr>\n",
       "  </tbody>\n",
       "</table>\n",
       "</div>"
      ],
      "text/plain": [
       "              order_id order_info_id  order_id_number  order_date  \\\n",
       "9513   ID-2019-3822244       ID-2019          3822244  2019-06-15   \n",
       "9742   ID-2019-4558193       ID-2019          4558193  2019-07-01   \n",
       "6685   ES-2019-3791943       ES-2019          3791943  2019-06-11   \n",
       "8725   ID-2019-1199603       ID-2019          1199603  2019-09-17   \n",
       "15069   IT-2019-582237       IT-2019           582237  2019-05-27   \n",
       "11887  IN-2019-3414263       IN-2019          3414263  2019-11-26   \n",
       "13588   IN-2019-609649       IN-2019           609649  2019-11-04   \n",
       "3672   CA-2019-5436242       CA-2019          5436242  2019-09-28   \n",
       "17084  MX-2019-2806606       MX-2019          2806606  2019-06-18   \n",
       "10946  IN-2019-2017026       IN-2019          2017026  2019-09-10   \n",
       "\n",
       "      order_weekday order_month   ship_date       ship_mode       product_id  \\\n",
       "9513       Saturday        June  2019-06-15    Second Class  OFF-BI-10002446   \n",
       "9742         Monday        July  2019-07-05  Standard Class  TEC-CO-10003102   \n",
       "6685        Tuesday        June  2019-06-11        Same Day  OFF-LA-10004737   \n",
       "8725        Tuesday   September  2019-09-19        Same Day  OFF-PA-10004946   \n",
       "15069        Monday         May  2019-05-28    Second Class  OFF-BI-10001984   \n",
       "11887       Tuesday    November  2019-11-30    Second Class  OFF-BI-10002424   \n",
       "13588        Monday    November  2019-11-04    Second Class  OFF-BI-10002446   \n",
       "3672       Saturday   September  2019-10-03  Standard Class  OFF-AR-10000940   \n",
       "17084       Tuesday        June  2019-06-20        Same Day  OFF-SU-10001722   \n",
       "10946       Tuesday   September  2019-09-12        Same Day  OFF-LA-10000471   \n",
       "\n",
       "              category sub_category                           product_name  \\\n",
       "9513   Office Supplies      Binders           Wilson Jones Binder, Economy   \n",
       "9742        Technology      Copiers              Canon Copy Machine, Color   \n",
       "6685   Office Supplies       Labels  Avery Shipping Labels, 5000 Label Set   \n",
       "8725   Office Supplies        Paper         SanDisk Note Cards, Multicolor   \n",
       "15069  Office Supplies      Binders         Ibico Binding Machine, Economy   \n",
       "11887  Office Supplies      Binders                  Avery Binder, Economy   \n",
       "13588  Office Supplies      Binders           Wilson Jones Binder, Economy   \n",
       "3672   Office Supplies          Art                             Newell 343   \n",
       "17084  Office Supplies     Supplies         Stiletto Box Cutter, Easy Grip   \n",
       "10946  Office Supplies       Labels  Smead Shipping Labels, 5000 Label Set   \n",
       "\n",
       "       unit_cost    sales  profit  profit_margin  quantity  discount  \\\n",
       "9513        7.81     7.81    0.10       0.012804         1      0.15   \n",
       "9742      158.15  1961.04    0.43       0.000219         8      0.50   \n",
       "6685       12.24    36.72    0.19       0.005174         3      0.25   \n",
       "8725       33.96    36.00    0.24       0.006667         2      0.30   \n",
       "15069      51.42   154.26    0.29       0.001880         3      0.35   \n",
       "11887      12.90    34.83    0.10       0.002871         3      0.15   \n",
       "13588       7.81    91.14    0.29       0.003182         7      0.35   \n",
       "3672        2.35     8.82    0.29       0.032880         3      0.35   \n",
       "17084      25.06    15.04    0.05       0.003324         1      0.10   \n",
       "10946      10.80    84.00    0.19       0.002262         7      0.25   \n",
       "\n",
       "       discount_over_30  region_id  postal_code         city      state  \\\n",
       "9513                  0       1488        48104    Ann Arbor   Michigan   \n",
       "9742                  1       1488        78745       Austin      Texas   \n",
       "6685                  0       1488        55407  Minneapolis  Minnesota   \n",
       "8725                  1       1488        60653      Chicago   Illinois   \n",
       "15069                 1       1488        78207  San Antonio      Texas   \n",
       "11887                 0       1488        78207  San Antonio      Texas   \n",
       "13588                 1       1488        61107     Rockford   Illinois   \n",
       "3672                  1       1488        68104        Omaha   Nebraska   \n",
       "17084                 0       1488        78745       Austin      Texas   \n",
       "10946                 0       1488        48185     Westland   Michigan   \n",
       "\n",
       "                  sub_region        salesperson customer_id  \\\n",
       "9513   Central United States  Annelise Williams    JH-15430   \n",
       "9742   Central United States  Annelise Williams    TT-21460   \n",
       "6685   Central United States  Annelise Williams    BD-11770   \n",
       "8725   Central United States  Annelise Williams    NL-18310   \n",
       "15069  Central United States  Annelise Williams    AM-10360   \n",
       "11887  Central United States  Annelise Williams    EJ-13720   \n",
       "13588  Central United States  Annelise Williams    JO-15550   \n",
       "3672   Central United States  Annelise Williams    SH-19975   \n",
       "17084  Central United States  Annelise Williams    KC-16255   \n",
       "10946  Central United States  Annelise Williams    SC-20380   \n",
       "\n",
       "           customer_name      segment return_date Category  Sales  Profit  \\\n",
       "9513   Jennifer Halladay     Consumer         NaN      NaN    NaN     NaN   \n",
       "9742       Tonja Turnell  Home Office         NaN      NaN    NaN     NaN   \n",
       "6685         Bryan Davis     Consumer         NaN      NaN    NaN     NaN   \n",
       "8725      Nancy Lomonaco  Home Office         NaN      NaN    NaN     NaN   \n",
       "15069     Alice McCarthy    Corporate         NaN      NaN    NaN     NaN   \n",
       "11887          Ed Jacobs     Consumer         NaN      NaN    NaN     NaN   \n",
       "13588       Jesus Ocampo  Home Office         NaN      NaN    NaN     NaN   \n",
       "3672       Sally Hughsby    Corporate         NaN      NaN    NaN     NaN   \n",
       "17084     Karen Carlisle    Corporate         NaN      NaN    NaN     NaN   \n",
       "10946   Shahid Collister     Consumer         NaN      NaN    NaN     NaN   \n",
       "\n",
       "       Profit Margin Margin Category State Customer Name  return_quantity  \\\n",
       "9513             NaN             NaN   NaN           NaN              NaN   \n",
       "9742             NaN             NaN   NaN           NaN              NaN   \n",
       "6685             NaN             NaN   NaN           NaN              NaN   \n",
       "8725             NaN             NaN   NaN           NaN              NaN   \n",
       "15069            NaN             NaN   NaN           NaN              NaN   \n",
       "11887            NaN             NaN   NaN           NaN              NaN   \n",
       "13588            NaN             NaN   NaN           NaN              NaN   \n",
       "3672             NaN             NaN   NaN           NaN              NaN   \n",
       "17084            NaN             NaN   NaN           NaN              NaN   \n",
       "10946            NaN             NaN   NaN           NaN              NaN   \n",
       "\n",
       "      reason_returned  \n",
       "9513              NaN  \n",
       "9742              NaN  \n",
       "6685              NaN  \n",
       "8725              NaN  \n",
       "15069             NaN  \n",
       "11887             NaN  \n",
       "13588             NaN  \n",
       "3672              NaN  \n",
       "17084             NaN  \n",
       "10946             NaN  "
      ]
     },
     "execution_count": 3,
     "metadata": {},
     "output_type": "execute_result"
    },
    {
     "data": {
      "application/javascript": [
       "\n",
       "            setTimeout(function() {\n",
       "                var nbb_cell_id = 3;\n",
       "                var nbb_unformatted_code = \"# Create a copy of the data\\ndata = df.copy()\\n\\n# View a sample of 10 data objects\\nnp.random.seed(1)  # Obtain the same random results every time\\ndata.sample(n=10)\";\n",
       "                var nbb_formatted_code = \"# Create a copy of the data\\ndata = df.copy()\\n\\n# View a sample of 10 data objects\\nnp.random.seed(1)  # Obtain the same random results every time\\ndata.sample(n=10)\";\n",
       "                var nbb_cells = Jupyter.notebook.get_cells();\n",
       "                for (var i = 0; i < nbb_cells.length; ++i) {\n",
       "                    if (nbb_cells[i].input_prompt_number == nbb_cell_id) {\n",
       "                        if (nbb_cells[i].get_text() == nbb_unformatted_code) {\n",
       "                             nbb_cells[i].set_text(nbb_formatted_code);\n",
       "                        }\n",
       "                        break;\n",
       "                    }\n",
       "                }\n",
       "            }, 500);\n",
       "            "
      ],
      "text/plain": [
       "<IPython.core.display.Javascript object>"
      ]
     },
     "metadata": {},
     "output_type": "display_data"
    }
   ],
   "source": [
    "# Create a copy of the data\n",
    "data = df.copy()\n",
    "\n",
    "# View a sample of 10 data objects\n",
    "np.random.seed(1)  # Obtain the same random results every time\n",
    "data.sample(n=10)"
   ]
  },
  {
   "cell_type": "markdown",
   "id": "1bf0b4ec",
   "metadata": {},
   "source": [
    "\n",
    "<div style=\"border-top: 3px solid black\"></div>\n"
   ]
  },
  {
   "cell_type": "markdown",
   "id": "a8a7f912",
   "metadata": {},
   "source": [
    "<h3 style=\"color:#4682B4\">The following analysis supports the idea of analyzing the orders dataset and returns dataset separately, because only a small fraction of orders (those that were returned) have corresponding entries in both datasets.</h3>\n",
    "\n",
    "<h4 style=\"color:#FFA500\">OBSERVATION</h4>\n",
    "\n",
    "##### The NaN in the returns dataset means that there are some returned orders for which the category is not recorded in the returns dataset.\n",
    "##### The NaN in the returns dataset means that there are some returned orders for which the category is not recorded in the returns dataset.\n",
    "##### The results indicate that there are 1211 rows where the 'category' column from the orders dataset matches the 'Category' column from the returns dataset. \n",
    "##### Conversely, there are 22850 rows where these two columns do not match.\n",
    "##### This suggests that there are 1211 orders that have been returned, which aligns with the number of rows in the returns dataset. \n",
    "##### The remaining 22850 orders have not been returned, which is why there's no match in the 'Category' column from the returns dataset \n",
    "##### (those cells are filled with NaN values after the left join operation).\n",
    "##### This analysis is very similar to the one done with the 'category' and '\n"
   ]
  },
  {
   "cell_type": "code",
   "execution_count": 4,
   "id": "365ddc48",
   "metadata": {},
   "outputs": [
    {
     "name": "stdout",
     "output_type": "stream",
     "text": [
      "Unique values in 'category' column from orders dataset:\n",
      "['Technology' 'Office Supplies' 'Furniture']\n",
      "\n",
      "Unique values in 'Category' column from returns dataset:\n",
      "[nan 'Office Supplies' 'Furniture' 'Technology']\n"
     ]
    },
    {
     "data": {
      "application/javascript": [
       "\n",
       "            setTimeout(function() {\n",
       "                var nbb_cell_id = 4;\n",
       "                var nbb_unformatted_code = \"print(\\\"Unique values in 'category' column from orders dataset:\\\")\\nprint(df['category'].unique())\\nprint(\\\"\\\\nUnique values in 'Category' column from returns dataset:\\\")\\nprint(df['Category'].unique())\";\n",
       "                var nbb_formatted_code = \"print(\\\"Unique values in 'category' column from orders dataset:\\\")\\nprint(df[\\\"category\\\"].unique())\\nprint(\\\"\\\\nUnique values in 'Category' column from returns dataset:\\\")\\nprint(df[\\\"Category\\\"].unique())\";\n",
       "                var nbb_cells = Jupyter.notebook.get_cells();\n",
       "                for (var i = 0; i < nbb_cells.length; ++i) {\n",
       "                    if (nbb_cells[i].input_prompt_number == nbb_cell_id) {\n",
       "                        if (nbb_cells[i].get_text() == nbb_unformatted_code) {\n",
       "                             nbb_cells[i].set_text(nbb_formatted_code);\n",
       "                        }\n",
       "                        break;\n",
       "                    }\n",
       "                }\n",
       "            }, 500);\n",
       "            "
      ],
      "text/plain": [
       "<IPython.core.display.Javascript object>"
      ]
     },
     "metadata": {},
     "output_type": "display_data"
    }
   ],
   "source": [
    "print(\"Unique values in 'category' column from orders dataset:\")\n",
    "print(df['category'].unique())\n",
    "print(\"\\nUnique values in 'Category' column from returns dataset:\")\n",
    "print(df['Category'].unique())\n"
   ]
  },
  {
   "cell_type": "code",
   "execution_count": 5,
   "id": "564d1017",
   "metadata": {},
   "outputs": [
    {
     "name": "stdout",
     "output_type": "stream",
     "text": [
      "False    22850\n",
      "True      1211\n",
      "Name: category_match, dtype: int64\n",
      "\n",
      "\n",
      "False    22850\n",
      "True      1211\n",
      "Name: category_match_2, dtype: int64\n"
     ]
    },
    {
     "data": {
      "application/javascript": [
       "\n",
       "            setTimeout(function() {\n",
       "                var nbb_cell_id = 5;\n",
       "                var nbb_unformatted_code = \"df[\\\"category_match\\\"] = np.where(df[\\\"category\\\"] == df[\\\"Category\\\"], \\\"True\\\", \\\"False\\\")\\nprint(df[\\\"category_match\\\"].value_counts())\\nprint(\\\"\\\\n\\\")\\n\\ndf['category_match_2'] = df['category'] == df['Category']\\nprint(df['category_match_2'].value_counts())\";\n",
       "                var nbb_formatted_code = \"df[\\\"category_match\\\"] = np.where(df[\\\"category\\\"] == df[\\\"Category\\\"], \\\"True\\\", \\\"False\\\")\\nprint(df[\\\"category_match\\\"].value_counts())\\nprint(\\\"\\\\n\\\")\\n\\ndf[\\\"category_match_2\\\"] = df[\\\"category\\\"] == df[\\\"Category\\\"]\\nprint(df[\\\"category_match_2\\\"].value_counts())\";\n",
       "                var nbb_cells = Jupyter.notebook.get_cells();\n",
       "                for (var i = 0; i < nbb_cells.length; ++i) {\n",
       "                    if (nbb_cells[i].input_prompt_number == nbb_cell_id) {\n",
       "                        if (nbb_cells[i].get_text() == nbb_unformatted_code) {\n",
       "                             nbb_cells[i].set_text(nbb_formatted_code);\n",
       "                        }\n",
       "                        break;\n",
       "                    }\n",
       "                }\n",
       "            }, 500);\n",
       "            "
      ],
      "text/plain": [
       "<IPython.core.display.Javascript object>"
      ]
     },
     "metadata": {},
     "output_type": "display_data"
    }
   ],
   "source": [
    "df[\"category_match\"] = np.where(df[\"category\"] == df[\"Category\"], \"True\", \"False\")\n",
    "print(df[\"category_match\"].value_counts())\n",
    "print(\"\\n\")\n",
    "\n",
    "df['category_match_2'] = df['category'] == df['Category']\n",
    "print(df['category_match_2'].value_counts())\n",
    "\n"
   ]
  },
  {
   "cell_type": "code",
   "execution_count": 6,
   "id": "31c20433",
   "metadata": {
    "scrolled": false
   },
   "outputs": [
    {
     "name": "stdout",
     "output_type": "stream",
     "text": [
      "Unique values in 'sales' column from orders dataset:\n",
      "[ 95.8    3.43  42.48 ... 627.23  14.83   3.15]\n",
      "\n",
      "Unique values in 'Sales' column from returns dataset:\n",
      "[        nan 7.72600e+01 1.30320e+02 9.28800e+01 3.28140e+02 2.74680e+02\n",
      " 1.47000e+01 2.79900e+02 1.07420e+02 2.95060e+02 3.37200e+01 3.30400e+01\n",
      " 9.94000e+00 4.41617e+03 3.23500e+01 2.79200e+01 1.41000e+00 4.38600e+01\n",
      " 1.94400e+01 3.95800e+01 5.45850e+02 4.74950e+02 1.32700e+01 4.66374e+03\n",
      " 3.50000e+01 1.99800e+02 2.75000e+01 1.01840e+02 3.08400e+01 8.24950e+02\n",
      " 1.52656e+03 1.63314e+03 3.69600e+01 9.41000e+00 1.59200e+01 1.43400e+01\n",
      " 1.33600e+01 1.65200e+01 1.98720e+02 8.96000e+00 8.02800e+01 1.13900e+01\n",
      " 2.44500e+01 1.86900e+01 3.27000e+01 3.81600e+01 1.22710e+02 1.99000e+01\n",
      " 6.49600e+01 5.55800e+01 1.13940e+02 1.53600e+02 5.69800e+01 2.11200e+01\n",
      " 4.78240e+02 3.23600e+01 2.21160e+02 1.44000e+01 5.20000e+01 3.00000e+01\n",
      " 3.42400e+01 4.99170e+02 1.95960e+02 8.59200e+02 2.12400e+01 7.54000e+00\n",
      " 3.07780e+02 1.34700e+01 1.58669e+03 1.49950e+02 2.51200e+01 7.30100e+01\n",
      " 4.77300e+02 2.93100e+01 2.77400e+02 1.92878e+03 1.08080e+02 8.92220e+02\n",
      " 3.34000e+01 2.20060e+02 3.89060e+02 1.37800e+01 3.63920e+02 4.73200e+01\n",
      " 2.44550e+02 1.11989e+03 2.83500e+01 1.13775e+03 3.39200e+01 5.45920e+02\n",
      " 1.45900e+02 1.70212e+03 1.52519e+03 2.14950e+02 7.24500e+01 2.46400e+01\n",
      " 4.36700e+02 7.67500e+01 1.96000e+01 1.62619e+03 2.86700e+01 1.62882e+03\n",
      " 1.07100e+03 1.81860e+02 2.00520e+02 5.18400e+01 9.59200e+01 4.28500e+01\n",
      " 1.89200e+01 2.36800e+01 6.01200e+01 1.47827e+03 1.72750e+02 2.29600e+01\n",
      " 1.46860e+02 7.06800e+01 1.57794e+03 7.29000e+01 4.86900e+01 1.99996e+03\n",
      " 3.92600e+01 5.95800e+01 9.85200e+02 3.22200e+02 7.66500e+01 6.19200e+01\n",
      " 6.13200e+01 7.61890e+02 1.17600e+02 2.47200e+01 5.37600e+01 4.38300e+01\n",
      " 1.12500e+02 1.10250e+02 1.12077e+03 2.29184e+03 4.54500e+01 4.65240e+02\n",
      " 1.02420e+02 1.80978e+03 4.05090e+02 2.43810e+02 8.28550e+02 1.05120e+02\n",
      " 8.72400e+01 1.03140e+02 1.53810e+02 1.48510e+02 1.46790e+02 9.18460e+02\n",
      " 2.26800e+02 7.64400e+01 2.16000e+02 2.60280e+02 3.94200e+01 1.02312e+03\n",
      " 7.80000e+01 2.28750e+02 2.61630e+02 1.27800e+02 1.89600e+02 2.70900e+01\n",
      " 4.32600e+02 1.88370e+02 1.48680e+02 1.90300e+02 5.72935e+03 4.06140e+02\n",
      " 2.55150e+02 1.81620e+02 3.93840e+02 1.12320e+02 7.44070e+02 4.73310e+02\n",
      " 1.26900e+02 6.70950e+02 2.15730e+02 4.85430e+02 7.11860e+02 3.35660e+02\n",
      " 5.77530e+02 8.01000e+01 2.22600e+02 8.16300e+01 3.51090e+02 6.66000e+01\n",
      " 4.40640e+02 1.13820e+02 1.90980e+02 1.46470e+02 4.14102e+03 1.47750e+02\n",
      " 1.29762e+03 2.60790e+02 2.02230e+02 5.71320e+02 2.93580e+02 1.30560e+02\n",
      " 1.37160e+02 1.75880e+02 1.81695e+03 1.36500e+02 8.20800e+01 6.18300e+02\n",
      " 6.76490e+02 1.33200e+02 1.55920e+02 1.42884e+03 4.62737e+03 3.16050e+02\n",
      " 1.51880e+02 1.89000e+02 2.29181e+03 7.85910e+02 1.21653e+03 2.33280e+02\n",
      " 2.40300e+02 8.29130e+02 8.14370e+02 2.59610e+02 2.71170e+03 3.85560e+02\n",
      " 5.68500e+01 6.61320e+02 4.47300e+03 1.16310e+02 7.26000e+01 5.73000e+01\n",
      " 8.08730e+02 1.80290e+02 2.90200e+02 5.60650e+02 1.62922e+03 9.94800e+01\n",
      " 5.74470e+02 2.82660e+02 8.53200e+01 5.88820e+02 2.89710e+02 6.18000e+01\n",
      " 3.40830e+02 9.16410e+02 4.87688e+03 1.36200e+02 5.80600e+01 4.33000e+01\n",
      " 4.59900e+01 3.66600e+01 8.12000e+01 7.46500e+01 1.61287e+03 2.25500e+01\n",
      " 8.06900e+01 4.30200e+01 2.67100e+01 8.54780e+02 7.43030e+02 1.11326e+03\n",
      " 2.97360e+02 3.39150e+02 7.50300e+01 3.62660e+02 1.41461e+03 1.24020e+02\n",
      " 3.81100e+03 2.86900e+02 3.39190e+02 2.06700e+01 3.58670e+02 5.37700e+02\n",
      " 7.22470e+02 8.37000e+01 1.46590e+02 3.73680e+02 1.35400e+01 1.60600e+01\n",
      " 2.40340e+02 7.13700e+01 4.57810e+02 5.33500e+01 9.93000e+01 4.64780e+02\n",
      " 5.18500e+02 1.33410e+02 6.63400e+01 4.23600e+01 3.72910e+02 4.85500e+01\n",
      " 1.96400e+01 2.39150e+02 7.27100e+01 9.00400e+01 1.04819e+03 8.83800e+02\n",
      " 2.95144e+03 8.54000e+00 1.52260e+02 9.77100e+01 4.26600e+02 2.64538e+03\n",
      " 4.52900e+01 1.59651e+03 1.98480e+02 2.43680e+02 8.84100e+01 6.67560e+02\n",
      " 2.53392e+03 2.19492e+03 9.14340e+02 4.51800e+02 1.10880e+02 7.73390e+02\n",
      " 5.40000e+01 1.46844e+03 5.43900e+01 3.59040e+02 1.10770e+02 8.58060e+02\n",
      " 4.57460e+02 3.01500e+01 2.89800e+02 3.54940e+02 6.30000e+01 8.91760e+02\n",
      " 6.62170e+02 3.29956e+03 4.56800e+01 6.02380e+02 9.11400e+01 5.87790e+02\n",
      " 3.13913e+03 8.79500e+01 7.37640e+02 5.29800e+01 5.13000e+01 3.21624e+03\n",
      " 5.42300e+01 9.09300e+01 1.55880e+02 9.69360e+02 1.48170e+03 3.72960e+02\n",
      " 2.12950e+03 4.37400e+01 2.06834e+03 1.94190e+02 2.44440e+02 8.53650e+02\n",
      " 2.71020e+02 1.68720e+02 2.57040e+02 6.74400e+01 2.21830e+02 2.87154e+03\n",
      " 7.17630e+02 2.18398e+03 2.63540e+02 3.42000e+02 2.41050e+02 6.79200e+01\n",
      " 3.83460e+02 4.48800e+02 4.55970e+02 5.07120e+02 5.11650e+02 1.00120e+02\n",
      " 1.09630e+02 1.45050e+02 1.53900e+02 8.78400e+01 6.26630e+02 9.50100e+01\n",
      " 9.04500e+01 7.71390e+02 2.71440e+02 1.72665e+03 3.66660e+02 1.04873e+03\n",
      " 7.35660e+02 2.67336e+03 1.34190e+02 1.28223e+03 3.04800e+02 1.60020e+02\n",
      " 2.75890e+02 2.61469e+03 3.92880e+02 2.86335e+03 2.87280e+02 8.00300e+01\n",
      " 6.02210e+02 1.55520e+02 2.47050e+03 6.04580e+02 1.71420e+02 6.92300e+01\n",
      " 1.70590e+02 6.99600e+01 2.11722e+03 5.76000e+02 5.87160e+02 2.27280e+02\n",
      " 1.06800e+02 1.48140e+02 1.00170e+03 2.63410e+02 2.27610e+02 8.07840e+02\n",
      " 8.57100e+02 5.14230e+02 1.30220e+02 1.02450e+02 1.27248e+03 1.96920e+02\n",
      " 1.42926e+03 1.24920e+02 2.20480e+02 2.41300e+02 2.68200e+01 1.07600e+02\n",
      " 3.42715e+03 3.33480e+02 2.55420e+02 7.12800e+01 5.49360e+02 6.44760e+02\n",
      " 1.75800e+03 4.77600e+01 4.82490e+02 4.27300e+01 5.38750e+02 4.26970e+02\n",
      " 2.83043e+03 1.62991e+03 3.85080e+02 2.63880e+02 1.21910e+02 9.57600e+01\n",
      " 4.57060e+02 2.58430e+02 2.31390e+02 6.70410e+02 1.40184e+03 7.81470e+02\n",
      " 4.20500e+01 2.87140e+02 6.14400e+01 1.56024e+03 1.36104e+03 1.04330e+02\n",
      " 4.23000e+01 8.56400e+01 7.77000e+01 7.65360e+02 4.89000e+01 6.58800e+01\n",
      " 9.18960e+02 1.08360e+02 4.39200e+01 1.04160e+02 5.65320e+02 1.13520e+02\n",
      " 1.93200e+01 1.69920e+02 3.36000e+01 8.20080e+02 4.35000e+01 3.67200e+01\n",
      " 8.00000e+01 2.28600e+01 2.59700e+02 7.83000e+01 8.00400e+01 3.10240e+02\n",
      " 1.43652e+03 2.72200e+02 1.38400e+02 4.53600e+01 3.35500e+01 1.92840e+02\n",
      " 4.34460e+02 2.81820e+02 1.90800e+01 4.12000e+01 3.03300e+02 8.66060e+02\n",
      " 1.09380e+02 2.38800e+01 1.70315e+03 9.93600e+01 1.82600e+01 1.17740e+02\n",
      " 1.06320e+02 1.29220e+02 2.65440e+02 2.47140e+02 7.17410e+02 6.42400e+01\n",
      " 1.63200e+02 6.79680e+02 1.07480e+03 4.38000e+01 1.04440e+02 3.78600e+01\n",
      " 4.74800e+02 3.59000e+01 3.03000e+01 8.82000e+01 9.49000e+01 4.15300e+02\n",
      " 1.75200e+01 1.71000e+02 8.05800e+01 5.16000e+02 1.29000e+01 1.65000e+01\n",
      " 1.17320e+02 1.60000e+01 2.63200e+01 1.80220e+02 8.18020e+02 1.79900e+02\n",
      " 1.02880e+02 1.86714e+03 1.18764e+03 2.70560e+02 2.72400e+01 8.90160e+02\n",
      " 3.44534e+03 1.42200e+02 1.47940e+02 5.77900e+02 9.28200e+02 3.79000e+01\n",
      " 4.46400e+02 4.23300e+02 2.70900e+02 1.44000e+02 6.11800e+01 8.81000e+01\n",
      " 3.79160e+02 2.03140e+02 3.30000e+02 1.69277e+03 1.90080e+02 2.74140e+02\n",
      " 7.95600e+01 1.60800e+01 2.19280e+02 1.69760e+02 9.10400e+01 8.80600e+01\n",
      " 1.07180e+02 7.55090e+02 5.36800e+02 1.30144e+03 2.26600e+02 8.91530e+02\n",
      " 4.04040e+02 2.24400e+02 3.83040e+02 1.02400e+02 1.65800e+02 1.19340e+03\n",
      " 6.62400e+01 1.38560e+02 1.74530e+02 1.93870e+02 3.26190e+02 1.56800e+02\n",
      " 1.38010e+03 6.77000e+01 1.31760e+02 8.79000e+02 8.56800e+02 1.99080e+02\n",
      " 1.23500e+01 1.56820e+02 7.24100e+02 2.10200e+01 5.94700e+01 1.97100e+01\n",
      " 2.19800e+01 7.47600e+01 1.24680e+02 1.10340e+02 2.32080e+02 2.45520e+02\n",
      " 3.30240e+02 3.44400e+02 3.27240e+02 2.28240e+02 7.32900e+02 3.33840e+02\n",
      " 1.27680e+02 1.18044e+03 4.72800e+01 3.18200e+01 4.50910e+02 1.24270e+02\n",
      " 7.09200e+01 2.05200e+01 2.35540e+02 7.03700e+01 8.85600e+01 2.11680e+02\n",
      " 1.57500e+02 1.21860e+02 2.78400e+01 1.46364e+03 3.64600e+01 5.33680e+02\n",
      " 1.02700e+01 2.31000e+01 6.56460e+02 1.60930e+02 7.82900e+01 1.98270e+02\n",
      " 1.59560e+02 1.03500e+02 8.70700e+01 6.10600e+01 1.46610e+02 1.79510e+02\n",
      " 2.09940e+02 1.41040e+03 3.88800e+01 2.19900e+02 6.71930e+02 5.99100e+01\n",
      " 6.02600e+01 3.20400e+01 1.21720e+02 1.35580e+02 5.52700e+01 2.19085e+03\n",
      " 6.53000e+02 3.82800e+01 1.07860e+02 2.31800e+01 1.18650e+02 1.38670e+02\n",
      " 6.10000e+01 1.70300e+01 1.44480e+02 4.10880e+02 2.58900e+02 3.93100e+01\n",
      " 5.34700e+01 8.88000e+00 2.47680e+02 2.06532e+03 1.24400e+02 1.88999e+03\n",
      " 1.17140e+02 4.80000e+01 1.83920e+02 2.72540e+02 1.16500e+01 4.84180e+02\n",
      " 1.00400e+01 1.10600e+01 1.71360e+02 8.23960e+02 8.11200e+01 7.19300e+01\n",
      " 6.06000e+01 4.26200e+01 1.20290e+02 2.11170e+02 4.91460e+02 9.52800e+01\n",
      " 4.11600e+01 2.81340e+02 2.36380e+02 1.10110e+02 2.39280e+02 1.11636e+03\n",
      " 1.66800e+01 4.84200e+01]\n",
      "\n",
      "\n",
      "False    22852\n",
      "True      1209\n",
      "Name: sales_match, dtype: int64\n",
      "\n",
      "\n",
      "False    22852\n",
      "True      1209\n",
      "Name: sales_match, dtype: int64\n"
     ]
    },
    {
     "data": {
      "application/javascript": [
       "\n",
       "            setTimeout(function() {\n",
       "                var nbb_cell_id = 6;\n",
       "                var nbb_unformatted_code = \"print(\\\"Unique values in 'sales' column from orders dataset:\\\")\\nprint(df[\\\"sales\\\"].unique())\\nprint(\\\"\\\\nUnique values in 'Sales' column from returns dataset:\\\")\\nprint(df[\\\"Sales\\\"].unique())\\nprint(\\\"\\\\n\\\")\\n\\n\\ndf[\\\"sales_match\\\"] = np.where(df[\\\"sales\\\"] == df[\\\"Sales\\\"], \\\"True\\\", \\\"False\\\")\\nprint(df[\\\"sales_match\\\"].value_counts())\\nprint(\\\"\\\\n\\\")\\ndf[\\\"sales_match\\\"] = np.where(\\n    np.isclose(df[\\\"sales\\\"], df[\\\"Sales\\\"], atol=0.01), \\\"True\\\", \\\"False\\\"\\n)\\nprint(df[\\\"sales_match\\\"].value_counts())\";\n",
       "                var nbb_formatted_code = \"print(\\\"Unique values in 'sales' column from orders dataset:\\\")\\nprint(df[\\\"sales\\\"].unique())\\nprint(\\\"\\\\nUnique values in 'Sales' column from returns dataset:\\\")\\nprint(df[\\\"Sales\\\"].unique())\\nprint(\\\"\\\\n\\\")\\n\\n\\ndf[\\\"sales_match\\\"] = np.where(df[\\\"sales\\\"] == df[\\\"Sales\\\"], \\\"True\\\", \\\"False\\\")\\nprint(df[\\\"sales_match\\\"].value_counts())\\nprint(\\\"\\\\n\\\")\\ndf[\\\"sales_match\\\"] = np.where(\\n    np.isclose(df[\\\"sales\\\"], df[\\\"Sales\\\"], atol=0.01), \\\"True\\\", \\\"False\\\"\\n)\\nprint(df[\\\"sales_match\\\"].value_counts())\";\n",
       "                var nbb_cells = Jupyter.notebook.get_cells();\n",
       "                for (var i = 0; i < nbb_cells.length; ++i) {\n",
       "                    if (nbb_cells[i].input_prompt_number == nbb_cell_id) {\n",
       "                        if (nbb_cells[i].get_text() == nbb_unformatted_code) {\n",
       "                             nbb_cells[i].set_text(nbb_formatted_code);\n",
       "                        }\n",
       "                        break;\n",
       "                    }\n",
       "                }\n",
       "            }, 500);\n",
       "            "
      ],
      "text/plain": [
       "<IPython.core.display.Javascript object>"
      ]
     },
     "metadata": {},
     "output_type": "display_data"
    }
   ],
   "source": [
    "print(\"Unique values in 'sales' column from orders dataset:\")\n",
    "print(df[\"sales\"].unique())\n",
    "print(\"\\nUnique values in 'Sales' column from returns dataset:\")\n",
    "print(df[\"Sales\"].unique())\n",
    "print(\"\\n\")\n",
    "\n",
    "\n",
    "df[\"sales_match\"] = np.where(df[\"sales\"] == df[\"Sales\"], \"True\", \"False\")\n",
    "print(df[\"sales_match\"].value_counts())\n",
    "print(\"\\n\")\n",
    "df[\"sales_match\"] = np.where(\n",
    "    np.isclose(df[\"sales\"], df[\"Sales\"], atol=0.01), \"True\", \"False\"\n",
    ")\n",
    "print(df[\"sales_match\"].value_counts())"
   ]
  },
  {
   "cell_type": "markdown",
   "id": "ac44a445",
   "metadata": {},
   "source": [
    "\n",
    "<div style=\"border-top: 3px solid black\"></div>\n"
   ]
  },
  {
   "cell_type": "markdown",
   "id": "9102e50f",
   "metadata": {},
   "source": [
    "<h3 style=\"color:#4682B4\">Display information about both the orders dataframe and the returns dataframe</h3>\n"
   ]
  },
  {
   "cell_type": "code",
   "execution_count": 7,
   "id": "34ef2b91",
   "metadata": {},
   "outputs": [
    {
     "name": "stdout",
     "output_type": "stream",
     "text": [
      "Orders DataFrame Info:\n",
      "----------------------\n",
      "<class 'pandas.core.frame.DataFrame'>\n",
      "RangeIndex: 24059 entries, 0 to 24058\n",
      "Data columns (total 28 columns):\n",
      " #   Column            Non-Null Count  Dtype  \n",
      "---  ------            --------------  -----  \n",
      " 0   order_id          24059 non-null  object \n",
      " 1   order_info_id     24059 non-null  object \n",
      " 2   order_id_number   24059 non-null  int64  \n",
      " 3   order_date        24059 non-null  object \n",
      " 4   order_weekday     24059 non-null  object \n",
      " 5   order_month       24059 non-null  object \n",
      " 6   ship_date         24059 non-null  object \n",
      " 7   ship_mode         24059 non-null  object \n",
      " 8   product_id        24059 non-null  object \n",
      " 9   category          24059 non-null  object \n",
      " 10  sub_category      24059 non-null  object \n",
      " 11  product_name      24059 non-null  object \n",
      " 12  unit_cost         24059 non-null  float64\n",
      " 13  sales             24059 non-null  float64\n",
      " 14  profit            24059 non-null  float64\n",
      " 15  profit_margin     24059 non-null  float64\n",
      " 16  quantity          24059 non-null  int64  \n",
      " 17  discount          24059 non-null  float64\n",
      " 18  discount_over_30  24059 non-null  int64  \n",
      " 19  region_id         24059 non-null  int64  \n",
      " 20  postal_code       24059 non-null  int64  \n",
      " 21  city              24059 non-null  object \n",
      " 22  state             24059 non-null  object \n",
      " 23  sub_region        24059 non-null  object \n",
      " 24  salesperson       24059 non-null  object \n",
      " 25  customer_id       24059 non-null  object \n",
      " 26  customer_name     24059 non-null  object \n",
      " 27  segment           24059 non-null  object \n",
      "dtypes: float64(5), int64(5), object(18)\n",
      "memory usage: 5.1+ MB\n"
     ]
    },
    {
     "data": {
      "application/javascript": [
       "\n",
       "            setTimeout(function() {\n",
       "                var nbb_cell_id = 7;\n",
       "                var nbb_unformatted_code = \"print(\\\"Orders DataFrame Info:\\\")\\nprint(\\\"----------------------\\\")\\norders.info()\";\n",
       "                var nbb_formatted_code = \"print(\\\"Orders DataFrame Info:\\\")\\nprint(\\\"----------------------\\\")\\norders.info()\";\n",
       "                var nbb_cells = Jupyter.notebook.get_cells();\n",
       "                for (var i = 0; i < nbb_cells.length; ++i) {\n",
       "                    if (nbb_cells[i].input_prompt_number == nbb_cell_id) {\n",
       "                        if (nbb_cells[i].get_text() == nbb_unformatted_code) {\n",
       "                             nbb_cells[i].set_text(nbb_formatted_code);\n",
       "                        }\n",
       "                        break;\n",
       "                    }\n",
       "                }\n",
       "            }, 500);\n",
       "            "
      ],
      "text/plain": [
       "<IPython.core.display.Javascript object>"
      ]
     },
     "metadata": {},
     "output_type": "display_data"
    }
   ],
   "source": [
    "print(\"Orders DataFrame Info:\")\n",
    "print(\"----------------------\")\n",
    "orders.info()"
   ]
  },
  {
   "cell_type": "code",
   "execution_count": 8,
   "id": "0a69f071",
   "metadata": {},
   "outputs": [
    {
     "name": "stdout",
     "output_type": "stream",
     "text": [
      "\n",
      "Returns DataFrame Info:\n",
      "-----------------------\n",
      "<class 'pandas.core.frame.DataFrame'>\n",
      "RangeIndex: 1209 entries, 0 to 1208\n",
      "Data columns (total 11 columns):\n",
      " #   Column           Non-Null Count  Dtype  \n",
      "---  ------           --------------  -----  \n",
      " 0   order_id         1209 non-null   object \n",
      " 1   return_date      1209 non-null   object \n",
      " 2   Category         1209 non-null   object \n",
      " 3   Sales            1209 non-null   float64\n",
      " 4   Profit           1209 non-null   float64\n",
      " 5   Profit Margin    1209 non-null   float64\n",
      " 6   Margin Category  1209 non-null   object \n",
      " 7   State            1209 non-null   object \n",
      " 8   Customer Name    1209 non-null   object \n",
      " 9   return_quantity  1209 non-null   int64  \n",
      " 10  reason_returned  1209 non-null   object \n",
      "dtypes: float64(3), int64(1), object(7)\n",
      "memory usage: 104.0+ KB\n"
     ]
    },
    {
     "data": {
      "application/javascript": [
       "\n",
       "            setTimeout(function() {\n",
       "                var nbb_cell_id = 8;\n",
       "                var nbb_unformatted_code = \"print(\\\"\\\\nReturns DataFrame Info:\\\")\\nprint(\\\"-----------------------\\\")\\nreturns.info()\";\n",
       "                var nbb_formatted_code = \"print(\\\"\\\\nReturns DataFrame Info:\\\")\\nprint(\\\"-----------------------\\\")\\nreturns.info()\";\n",
       "                var nbb_cells = Jupyter.notebook.get_cells();\n",
       "                for (var i = 0; i < nbb_cells.length; ++i) {\n",
       "                    if (nbb_cells[i].input_prompt_number == nbb_cell_id) {\n",
       "                        if (nbb_cells[i].get_text() == nbb_unformatted_code) {\n",
       "                             nbb_cells[i].set_text(nbb_formatted_code);\n",
       "                        }\n",
       "                        break;\n",
       "                    }\n",
       "                }\n",
       "            }, 500);\n",
       "            "
      ],
      "text/plain": [
       "<IPython.core.display.Javascript object>"
      ]
     },
     "metadata": {},
     "output_type": "display_data"
    }
   ],
   "source": [
    "print(\"\\nReturns DataFrame Info:\")\n",
    "print(\"-----------------------\")\n",
    "returns.info()"
   ]
  },
  {
   "cell_type": "markdown",
   "id": "a1ce0b97",
   "metadata": {},
   "source": [
    "\n",
    "<div style=\"border-top: 3px solid black\"></div>\n"
   ]
  },
  {
   "cell_type": "markdown",
   "id": "26583b7e",
   "metadata": {},
   "source": [
    "<h3 style=\"color:blue\">Check for duplicate records</h3>\n",
    "\n",
    "<hr>\n",
    "\n",
    "<h4 style=\"color:orange\">OBSERVATION</h4>\n",
    "\n",
    "Order ID # CA-2019-117947 was a duplicate record that needed to be deleted\n"
   ]
  },
  {
   "cell_type": "code",
   "execution_count": 9,
   "id": "06e848f2",
   "metadata": {},
   "outputs": [
    {
     "data": {
      "text/html": [
       "<style type=\"text/css\">\n",
       "</style>\n",
       "<table id=\"T_82d84\">\n",
       "  <thead>\n",
       "    <tr>\n",
       "      <th id=\"T_82d84_level0_col0\" class=\"col_heading level0 col0\" >Orders Duplicates</th>\n",
       "      <th id=\"T_82d84_level0_col1\" class=\"col_heading level0 col1\" >Returns Duplicates</th>\n",
       "    </tr>\n",
       "  </thead>\n",
       "  <tbody>\n",
       "    <tr>\n",
       "      <td id=\"T_82d84_row0_col0\" class=\"data row0 col0\" >0</td>\n",
       "      <td id=\"T_82d84_row0_col1\" class=\"data row0 col1\" >1</td>\n",
       "    </tr>\n",
       "  </tbody>\n",
       "</table>\n"
      ],
      "text/plain": [
       "<pandas.io.formats.style.Styler at 0x1a376e6df40>"
      ]
     },
     "metadata": {},
     "output_type": "display_data"
    },
    {
     "data": {
      "application/javascript": [
       "\n",
       "            setTimeout(function() {\n",
       "                var nbb_cell_id = 9;\n",
       "                var nbb_unformatted_code = \"duplicates = pd.DataFrame(\\n    {\\n        \\\"Orders Duplicates\\\": [orders.duplicated().sum()],\\n        \\\"Returns Duplicates\\\": [returns.duplicated().sum()],\\n    }\\n)\\n\\ndisplay(duplicates.style.hide_index())\";\n",
       "                var nbb_formatted_code = \"duplicates = pd.DataFrame(\\n    {\\n        \\\"Orders Duplicates\\\": [orders.duplicated().sum()],\\n        \\\"Returns Duplicates\\\": [returns.duplicated().sum()],\\n    }\\n)\\n\\ndisplay(duplicates.style.hide_index())\";\n",
       "                var nbb_cells = Jupyter.notebook.get_cells();\n",
       "                for (var i = 0; i < nbb_cells.length; ++i) {\n",
       "                    if (nbb_cells[i].input_prompt_number == nbb_cell_id) {\n",
       "                        if (nbb_cells[i].get_text() == nbb_unformatted_code) {\n",
       "                             nbb_cells[i].set_text(nbb_formatted_code);\n",
       "                        }\n",
       "                        break;\n",
       "                    }\n",
       "                }\n",
       "            }, 500);\n",
       "            "
      ],
      "text/plain": [
       "<IPython.core.display.Javascript object>"
      ]
     },
     "metadata": {},
     "output_type": "display_data"
    }
   ],
   "source": [
    "duplicates = pd.DataFrame(\n",
    "    {\n",
    "        \"Orders Duplicates\": [orders.duplicated().sum()],\n",
    "        \"Returns Duplicates\": [returns.duplicated().sum()],\n",
    "    }\n",
    ")\n",
    "\n",
    "display(duplicates.style.hide_index())"
   ]
  },
  {
   "cell_type": "code",
   "execution_count": 10,
   "id": "ea75e4df",
   "metadata": {},
   "outputs": [
    {
     "name": "stdout",
     "output_type": "stream",
     "text": [
      "         order_id return_date   Category  Sales  Profit  Profit Margin  \\\n",
      "7  CA-2019-117947  2019-09-11  Furniture   9.94    3.08       0.309859   \n",
      "8  CA-2019-117947  2019-09-11  Furniture   9.94    3.08       0.309859   \n",
      "\n",
      "  Margin Category  State Customer Name  return_quantity reason_returned  \n",
      "7          Medium  Texas    Nat Gilpin                1      Not Needed  \n",
      "8          Medium  Texas    Nat Gilpin                1      Not Needed  \n"
     ]
    },
    {
     "data": {
      "application/javascript": [
       "\n",
       "            setTimeout(function() {\n",
       "                var nbb_cell_id = 10;\n",
       "                var nbb_unformatted_code = \"# Identify and inspect all duplicates in the returns dataset\\nduplicates = returns[returns.duplicated(keep=False)]\\n\\n# Display duplicates\\nprint(duplicates)\";\n",
       "                var nbb_formatted_code = \"# Identify and inspect all duplicates in the returns dataset\\nduplicates = returns[returns.duplicated(keep=False)]\\n\\n# Display duplicates\\nprint(duplicates)\";\n",
       "                var nbb_cells = Jupyter.notebook.get_cells();\n",
       "                for (var i = 0; i < nbb_cells.length; ++i) {\n",
       "                    if (nbb_cells[i].input_prompt_number == nbb_cell_id) {\n",
       "                        if (nbb_cells[i].get_text() == nbb_unformatted_code) {\n",
       "                             nbb_cells[i].set_text(nbb_formatted_code);\n",
       "                        }\n",
       "                        break;\n",
       "                    }\n",
       "                }\n",
       "            }, 500);\n",
       "            "
      ],
      "text/plain": [
       "<IPython.core.display.Javascript object>"
      ]
     },
     "metadata": {},
     "output_type": "display_data"
    }
   ],
   "source": [
    "# Identify and inspect all duplicates in the returns dataset\n",
    "duplicates = returns[returns.duplicated(keep=False)]\n",
    "\n",
    "# Display duplicates\n",
    "print(duplicates)\n"
   ]
  },
  {
   "cell_type": "code",
   "execution_count": 11,
   "id": "8543ae62",
   "metadata": {},
   "outputs": [
    {
     "name": "stdout",
     "output_type": "stream",
     "text": [
      "Number of duplicates after deletion:  0\n"
     ]
    },
    {
     "data": {
      "application/javascript": [
       "\n",
       "            setTimeout(function() {\n",
       "                var nbb_cell_id = 11;\n",
       "                var nbb_unformatted_code = \"# Drop duplicates from the returns dataset\\nreturns = returns.drop_duplicates()\\n\\n# Verify the operation by checking duplicates again\\nprint(\\\"Number of duplicates after deletion: \\\", returns.duplicated().sum())\";\n",
       "                var nbb_formatted_code = \"# Drop duplicates from the returns dataset\\nreturns = returns.drop_duplicates()\\n\\n# Verify the operation by checking duplicates again\\nprint(\\\"Number of duplicates after deletion: \\\", returns.duplicated().sum())\";\n",
       "                var nbb_cells = Jupyter.notebook.get_cells();\n",
       "                for (var i = 0; i < nbb_cells.length; ++i) {\n",
       "                    if (nbb_cells[i].input_prompt_number == nbb_cell_id) {\n",
       "                        if (nbb_cells[i].get_text() == nbb_unformatted_code) {\n",
       "                             nbb_cells[i].set_text(nbb_formatted_code);\n",
       "                        }\n",
       "                        break;\n",
       "                    }\n",
       "                }\n",
       "            }, 500);\n",
       "            "
      ],
      "text/plain": [
       "<IPython.core.display.Javascript object>"
      ]
     },
     "metadata": {},
     "output_type": "display_data"
    }
   ],
   "source": [
    "# Drop duplicates from the returns dataset\n",
    "returns = returns.drop_duplicates()\n",
    "\n",
    "# Verify the operation by checking duplicates again\n",
    "print(\"Number of duplicates after deletion: \", returns.duplicated().sum())\n"
   ]
  },
  {
   "cell_type": "code",
   "execution_count": 12,
   "id": "27cb18d7",
   "metadata": {},
   "outputs": [
    {
     "data": {
      "text/html": [
       "<style type=\"text/css\">\n",
       "</style>\n",
       "<table id=\"T_09e04\">\n",
       "  <thead>\n",
       "    <tr>\n",
       "      <th id=\"T_09e04_level0_col0\" class=\"col_heading level0 col0\" >Orders Duplicates</th>\n",
       "      <th id=\"T_09e04_level0_col1\" class=\"col_heading level0 col1\" >Returns Duplicates</th>\n",
       "    </tr>\n",
       "  </thead>\n",
       "  <tbody>\n",
       "    <tr>\n",
       "      <td id=\"T_09e04_row0_col0\" class=\"data row0 col0\" >0</td>\n",
       "      <td id=\"T_09e04_row0_col1\" class=\"data row0 col1\" >0</td>\n",
       "    </tr>\n",
       "  </tbody>\n",
       "</table>\n"
      ],
      "text/plain": [
       "<pandas.io.formats.style.Styler at 0x1a376e6d8e0>"
      ]
     },
     "metadata": {},
     "output_type": "display_data"
    },
    {
     "data": {
      "application/javascript": [
       "\n",
       "            setTimeout(function() {\n",
       "                var nbb_cell_id = 12;\n",
       "                var nbb_unformatted_code = \"duplicates = pd.DataFrame(\\n    {\\n        \\\"Orders Duplicates\\\": [orders.duplicated().sum()],\\n        \\\"Returns Duplicates\\\": [returns.duplicated().sum()],\\n    }\\n)\\n\\ndisplay(duplicates.style.hide_index())\";\n",
       "                var nbb_formatted_code = \"duplicates = pd.DataFrame(\\n    {\\n        \\\"Orders Duplicates\\\": [orders.duplicated().sum()],\\n        \\\"Returns Duplicates\\\": [returns.duplicated().sum()],\\n    }\\n)\\n\\ndisplay(duplicates.style.hide_index())\";\n",
       "                var nbb_cells = Jupyter.notebook.get_cells();\n",
       "                for (var i = 0; i < nbb_cells.length; ++i) {\n",
       "                    if (nbb_cells[i].input_prompt_number == nbb_cell_id) {\n",
       "                        if (nbb_cells[i].get_text() == nbb_unformatted_code) {\n",
       "                             nbb_cells[i].set_text(nbb_formatted_code);\n",
       "                        }\n",
       "                        break;\n",
       "                    }\n",
       "                }\n",
       "            }, 500);\n",
       "            "
      ],
      "text/plain": [
       "<IPython.core.display.Javascript object>"
      ]
     },
     "metadata": {},
     "output_type": "display_data"
    }
   ],
   "source": [
    "duplicates = pd.DataFrame(\n",
    "    {\n",
    "        \"Orders Duplicates\": [orders.duplicated().sum()],\n",
    "        \"Returns Duplicates\": [returns.duplicated().sum()],\n",
    "    }\n",
    ")\n",
    "\n",
    "display(duplicates.style.hide_index())"
   ]
  },
  {
   "cell_type": "code",
   "execution_count": 13,
   "id": "225c2bb0",
   "metadata": {},
   "outputs": [
    {
     "name": "stdout",
     "output_type": "stream",
     "text": [
      "\n",
      "Returns DataFrame Info:\n",
      "-----------------------\n",
      "<class 'pandas.core.frame.DataFrame'>\n",
      "Int64Index: 1208 entries, 0 to 1208\n",
      "Data columns (total 11 columns):\n",
      " #   Column           Non-Null Count  Dtype  \n",
      "---  ------           --------------  -----  \n",
      " 0   order_id         1208 non-null   object \n",
      " 1   return_date      1208 non-null   object \n",
      " 2   Category         1208 non-null   object \n",
      " 3   Sales            1208 non-null   float64\n",
      " 4   Profit           1208 non-null   float64\n",
      " 5   Profit Margin    1208 non-null   float64\n",
      " 6   Margin Category  1208 non-null   object \n",
      " 7   State            1208 non-null   object \n",
      " 8   Customer Name    1208 non-null   object \n",
      " 9   return_quantity  1208 non-null   int64  \n",
      " 10  reason_returned  1208 non-null   object \n",
      "dtypes: float64(3), int64(1), object(7)\n",
      "memory usage: 113.2+ KB\n"
     ]
    },
    {
     "data": {
      "application/javascript": [
       "\n",
       "            setTimeout(function() {\n",
       "                var nbb_cell_id = 13;\n",
       "                var nbb_unformatted_code = \"# Verify returns.info()\\nprint(\\\"\\\\nReturns DataFrame Info:\\\")\\nprint(\\\"-----------------------\\\")\\nreturns.info()\";\n",
       "                var nbb_formatted_code = \"# Verify returns.info()\\nprint(\\\"\\\\nReturns DataFrame Info:\\\")\\nprint(\\\"-----------------------\\\")\\nreturns.info()\";\n",
       "                var nbb_cells = Jupyter.notebook.get_cells();\n",
       "                for (var i = 0; i < nbb_cells.length; ++i) {\n",
       "                    if (nbb_cells[i].input_prompt_number == nbb_cell_id) {\n",
       "                        if (nbb_cells[i].get_text() == nbb_unformatted_code) {\n",
       "                             nbb_cells[i].set_text(nbb_formatted_code);\n",
       "                        }\n",
       "                        break;\n",
       "                    }\n",
       "                }\n",
       "            }, 500);\n",
       "            "
      ],
      "text/plain": [
       "<IPython.core.display.Javascript object>"
      ]
     },
     "metadata": {},
     "output_type": "display_data"
    }
   ],
   "source": [
    "# Verify returns.info()\n",
    "print(\"\\nReturns DataFrame Info:\")\n",
    "print(\"-----------------------\")\n",
    "returns.info()"
   ]
  },
  {
   "cell_type": "markdown",
   "id": "8a2c6903",
   "metadata": {},
   "source": [
    "<div style=\"border-top: 3px solid black\"></div>\n"
   ]
  },
  {
   "cell_type": "markdown",
   "id": "99025e56",
   "metadata": {},
   "source": [
    "<h3 style=\"color:#4682B4\">Display a sample of the orders dataframe</h3>\n"
   ]
  },
  {
   "cell_type": "code",
   "execution_count": 14,
   "id": "d0f35290",
   "metadata": {},
   "outputs": [
    {
     "data": {
      "text/html": [
       "<div>\n",
       "<style scoped>\n",
       "    .dataframe tbody tr th:only-of-type {\n",
       "        vertical-align: middle;\n",
       "    }\n",
       "\n",
       "    .dataframe tbody tr th {\n",
       "        vertical-align: top;\n",
       "    }\n",
       "\n",
       "    .dataframe thead th {\n",
       "        text-align: right;\n",
       "    }\n",
       "</style>\n",
       "<table border=\"1\" class=\"dataframe\">\n",
       "  <thead>\n",
       "    <tr style=\"text-align: right;\">\n",
       "      <th></th>\n",
       "      <th>order_id</th>\n",
       "      <th>order_info_id</th>\n",
       "      <th>order_id_number</th>\n",
       "      <th>order_date</th>\n",
       "      <th>order_weekday</th>\n",
       "      <th>order_month</th>\n",
       "      <th>ship_date</th>\n",
       "      <th>ship_mode</th>\n",
       "      <th>product_id</th>\n",
       "      <th>category</th>\n",
       "      <th>sub_category</th>\n",
       "      <th>product_name</th>\n",
       "      <th>unit_cost</th>\n",
       "      <th>sales</th>\n",
       "      <th>profit</th>\n",
       "      <th>profit_margin</th>\n",
       "      <th>quantity</th>\n",
       "      <th>discount</th>\n",
       "      <th>discount_over_30</th>\n",
       "      <th>region_id</th>\n",
       "      <th>postal_code</th>\n",
       "      <th>city</th>\n",
       "      <th>state</th>\n",
       "      <th>sub_region</th>\n",
       "      <th>salesperson</th>\n",
       "      <th>customer_id</th>\n",
       "      <th>customer_name</th>\n",
       "      <th>segment</th>\n",
       "    </tr>\n",
       "  </thead>\n",
       "  <tbody>\n",
       "    <tr>\n",
       "      <th>0</th>\n",
       "      <td>AE-2019-1231682</td>\n",
       "      <td>AE-2019</td>\n",
       "      <td>1231682</td>\n",
       "      <td>2019-12-18</td>\n",
       "      <td>Wednesday</td>\n",
       "      <td>December</td>\n",
       "      <td>2019-12-23</td>\n",
       "      <td>Second Class</td>\n",
       "      <td>TEC-MOT-10001535</td>\n",
       "      <td>Technology</td>\n",
       "      <td>Phones</td>\n",
       "      <td>Motorola Headset, VoIP</td>\n",
       "      <td>23.95</td>\n",
       "      <td>95.80</td>\n",
       "      <td>0.33</td>\n",
       "      <td>0.003445</td>\n",
       "      <td>4</td>\n",
       "      <td>0.40</td>\n",
       "      <td>1</td>\n",
       "      <td>1488</td>\n",
       "      <td>47374</td>\n",
       "      <td>Richmond</td>\n",
       "      <td>Indiana</td>\n",
       "      <td>Central United States</td>\n",
       "      <td>Annelise Williams</td>\n",
       "      <td>GH-4665</td>\n",
       "      <td>Greg Hansen</td>\n",
       "      <td>Consumer</td>\n",
       "    </tr>\n",
       "    <tr>\n",
       "      <th>1</th>\n",
       "      <td>AE-2019-1263608</td>\n",
       "      <td>AE-2019</td>\n",
       "      <td>1263608</td>\n",
       "      <td>2019-12-26</td>\n",
       "      <td>Thursday</td>\n",
       "      <td>December</td>\n",
       "      <td>2019-12-31</td>\n",
       "      <td>Second Class</td>\n",
       "      <td>OFF-AVE-10004827</td>\n",
       "      <td>Office Supplies</td>\n",
       "      <td>Binders</td>\n",
       "      <td>Avery Binder Covers, Recycled</td>\n",
       "      <td>11.43</td>\n",
       "      <td>3.43</td>\n",
       "      <td>0.33</td>\n",
       "      <td>0.096210</td>\n",
       "      <td>1</td>\n",
       "      <td>0.40</td>\n",
       "      <td>1</td>\n",
       "      <td>1488</td>\n",
       "      <td>78745</td>\n",
       "      <td>Austin</td>\n",
       "      <td>Texas</td>\n",
       "      <td>Central United States</td>\n",
       "      <td>Annelise Williams</td>\n",
       "      <td>GH-4665</td>\n",
       "      <td>Greg Hansen</td>\n",
       "      <td>Consumer</td>\n",
       "    </tr>\n",
       "    <tr>\n",
       "      <th>2</th>\n",
       "      <td>AE-2019-303016</td>\n",
       "      <td>AE-2019</td>\n",
       "      <td>303016</td>\n",
       "      <td>2019-12-18</td>\n",
       "      <td>Wednesday</td>\n",
       "      <td>December</td>\n",
       "      <td>2019-12-23</td>\n",
       "      <td>Second Class</td>\n",
       "      <td>TEC-MOT-10001535</td>\n",
       "      <td>Technology</td>\n",
       "      <td>Phones</td>\n",
       "      <td>Motorola Headset, VoIP</td>\n",
       "      <td>23.95</td>\n",
       "      <td>95.80</td>\n",
       "      <td>0.33</td>\n",
       "      <td>0.003445</td>\n",
       "      <td>4</td>\n",
       "      <td>0.40</td>\n",
       "      <td>1</td>\n",
       "      <td>1488</td>\n",
       "      <td>52402</td>\n",
       "      <td>Cedar Rapids</td>\n",
       "      <td>Iowa</td>\n",
       "      <td>Central United States</td>\n",
       "      <td>Annelise Williams</td>\n",
       "      <td>GH-4665</td>\n",
       "      <td>Greg Hansen</td>\n",
       "      <td>Consumer</td>\n",
       "    </tr>\n",
       "    <tr>\n",
       "      <th>3</th>\n",
       "      <td>AE-2019-304471</td>\n",
       "      <td>AE-2019</td>\n",
       "      <td>304471</td>\n",
       "      <td>2019-12-27</td>\n",
       "      <td>Friday</td>\n",
       "      <td>December</td>\n",
       "      <td>2019-12-31</td>\n",
       "      <td>Second Class</td>\n",
       "      <td>TEC-MOT-10001535</td>\n",
       "      <td>Technology</td>\n",
       "      <td>Phones</td>\n",
       "      <td>Motorola Headset, VoIP</td>\n",
       "      <td>23.95</td>\n",
       "      <td>95.80</td>\n",
       "      <td>0.33</td>\n",
       "      <td>0.003445</td>\n",
       "      <td>4</td>\n",
       "      <td>0.40</td>\n",
       "      <td>1</td>\n",
       "      <td>1488</td>\n",
       "      <td>60653</td>\n",
       "      <td>Chicago</td>\n",
       "      <td>Illinois</td>\n",
       "      <td>Central United States</td>\n",
       "      <td>Annelise Williams</td>\n",
       "      <td>GH-4665</td>\n",
       "      <td>Greg Hansen</td>\n",
       "      <td>Consumer</td>\n",
       "    </tr>\n",
       "    <tr>\n",
       "      <th>4</th>\n",
       "      <td>AE-2019-3123605</td>\n",
       "      <td>AE-2019</td>\n",
       "      <td>3123605</td>\n",
       "      <td>2019-11-30</td>\n",
       "      <td>Saturday</td>\n",
       "      <td>November</td>\n",
       "      <td>2019-12-05</td>\n",
       "      <td>Second Class</td>\n",
       "      <td>OFF-ROG-10001340</td>\n",
       "      <td>Office Supplies</td>\n",
       "      <td>Storage</td>\n",
       "      <td>Rogers File Cart, Industrial</td>\n",
       "      <td>141.60</td>\n",
       "      <td>42.48</td>\n",
       "      <td>0.28</td>\n",
       "      <td>0.006591</td>\n",
       "      <td>1</td>\n",
       "      <td>0.35</td>\n",
       "      <td>1</td>\n",
       "      <td>1488</td>\n",
       "      <td>55901</td>\n",
       "      <td>Rochester</td>\n",
       "      <td>Minnesota</td>\n",
       "      <td>Central United States</td>\n",
       "      <td>Annelise Williams</td>\n",
       "      <td>PG-8820</td>\n",
       "      <td>Patrick Gardner</td>\n",
       "      <td>Consumer</td>\n",
       "    </tr>\n",
       "  </tbody>\n",
       "</table>\n",
       "</div>"
      ],
      "text/plain": [
       "          order_id order_info_id  order_id_number  order_date order_weekday  \\\n",
       "0  AE-2019-1231682       AE-2019          1231682  2019-12-18     Wednesday   \n",
       "1  AE-2019-1263608       AE-2019          1263608  2019-12-26      Thursday   \n",
       "2   AE-2019-303016       AE-2019           303016  2019-12-18     Wednesday   \n",
       "3   AE-2019-304471       AE-2019           304471  2019-12-27        Friday   \n",
       "4  AE-2019-3123605       AE-2019          3123605  2019-11-30      Saturday   \n",
       "\n",
       "  order_month   ship_date     ship_mode        product_id         category  \\\n",
       "0    December  2019-12-23  Second Class  TEC-MOT-10001535       Technology   \n",
       "1    December  2019-12-31  Second Class  OFF-AVE-10004827  Office Supplies   \n",
       "2    December  2019-12-23  Second Class  TEC-MOT-10001535       Technology   \n",
       "3    December  2019-12-31  Second Class  TEC-MOT-10001535       Technology   \n",
       "4    November  2019-12-05  Second Class  OFF-ROG-10001340  Office Supplies   \n",
       "\n",
       "  sub_category                   product_name  unit_cost  sales  profit  \\\n",
       "0       Phones         Motorola Headset, VoIP      23.95  95.80    0.33   \n",
       "1      Binders  Avery Binder Covers, Recycled      11.43   3.43    0.33   \n",
       "2       Phones         Motorola Headset, VoIP      23.95  95.80    0.33   \n",
       "3       Phones         Motorola Headset, VoIP      23.95  95.80    0.33   \n",
       "4      Storage   Rogers File Cart, Industrial     141.60  42.48    0.28   \n",
       "\n",
       "   profit_margin  quantity  discount  discount_over_30  region_id  \\\n",
       "0       0.003445         4      0.40                 1       1488   \n",
       "1       0.096210         1      0.40                 1       1488   \n",
       "2       0.003445         4      0.40                 1       1488   \n",
       "3       0.003445         4      0.40                 1       1488   \n",
       "4       0.006591         1      0.35                 1       1488   \n",
       "\n",
       "   postal_code          city      state             sub_region  \\\n",
       "0        47374      Richmond    Indiana  Central United States   \n",
       "1        78745        Austin      Texas  Central United States   \n",
       "2        52402  Cedar Rapids       Iowa  Central United States   \n",
       "3        60653       Chicago   Illinois  Central United States   \n",
       "4        55901     Rochester  Minnesota  Central United States   \n",
       "\n",
       "         salesperson customer_id    customer_name   segment  \n",
       "0  Annelise Williams     GH-4665      Greg Hansen  Consumer  \n",
       "1  Annelise Williams     GH-4665      Greg Hansen  Consumer  \n",
       "2  Annelise Williams     GH-4665      Greg Hansen  Consumer  \n",
       "3  Annelise Williams     GH-4665      Greg Hansen  Consumer  \n",
       "4  Annelise Williams     PG-8820  Patrick Gardner  Consumer  "
      ]
     },
     "execution_count": 14,
     "metadata": {},
     "output_type": "execute_result"
    },
    {
     "data": {
      "application/javascript": [
       "\n",
       "            setTimeout(function() {\n",
       "                var nbb_cell_id = 14;\n",
       "                var nbb_unformatted_code = \"orders.head()\";\n",
       "                var nbb_formatted_code = \"orders.head()\";\n",
       "                var nbb_cells = Jupyter.notebook.get_cells();\n",
       "                for (var i = 0; i < nbb_cells.length; ++i) {\n",
       "                    if (nbb_cells[i].input_prompt_number == nbb_cell_id) {\n",
       "                        if (nbb_cells[i].get_text() == nbb_unformatted_code) {\n",
       "                             nbb_cells[i].set_text(nbb_formatted_code);\n",
       "                        }\n",
       "                        break;\n",
       "                    }\n",
       "                }\n",
       "            }, 500);\n",
       "            "
      ],
      "text/plain": [
       "<IPython.core.display.Javascript object>"
      ]
     },
     "metadata": {},
     "output_type": "display_data"
    }
   ],
   "source": [
    "orders.head()"
   ]
  },
  {
   "cell_type": "code",
   "execution_count": 15,
   "id": "c25f4cb8",
   "metadata": {},
   "outputs": [
    {
     "name": "stdout",
     "output_type": "stream",
     "text": [
      "0    2019-12-18\n",
      "1    2019-12-26\n",
      "2    2019-12-18\n",
      "3    2019-12-27\n",
      "4    2019-11-30\n",
      "Name: order_date, dtype: object\n",
      "0    2019-12-23\n",
      "1    2019-12-31\n",
      "2    2019-12-23\n",
      "3    2019-12-31\n",
      "4    2019-12-05\n",
      "Name: ship_date, dtype: object\n"
     ]
    },
    {
     "data": {
      "application/javascript": [
       "\n",
       "            setTimeout(function() {\n",
       "                var nbb_cell_id = 15;\n",
       "                var nbb_unformatted_code = \"# Are dates in a string format?\\nprint(orders['order_date'].head())\\nprint(orders['ship_date'].head())\";\n",
       "                var nbb_formatted_code = \"# Are dates in a string format?\\nprint(orders[\\\"order_date\\\"].head())\\nprint(orders[\\\"ship_date\\\"].head())\";\n",
       "                var nbb_cells = Jupyter.notebook.get_cells();\n",
       "                for (var i = 0; i < nbb_cells.length; ++i) {\n",
       "                    if (nbb_cells[i].input_prompt_number == nbb_cell_id) {\n",
       "                        if (nbb_cells[i].get_text() == nbb_unformatted_code) {\n",
       "                             nbb_cells[i].set_text(nbb_formatted_code);\n",
       "                        }\n",
       "                        break;\n",
       "                    }\n",
       "                }\n",
       "            }, 500);\n",
       "            "
      ],
      "text/plain": [
       "<IPython.core.display.Javascript object>"
      ]
     },
     "metadata": {},
     "output_type": "display_data"
    }
   ],
   "source": [
    "# Are dates in a string format?\n",
    "print(orders['order_date'].head())\n",
    "print(orders['ship_date'].head())\n"
   ]
  },
  {
   "cell_type": "code",
   "execution_count": 16,
   "id": "09c1e7a7",
   "metadata": {},
   "outputs": [
    {
     "data": {
      "application/javascript": [
       "\n",
       "            setTimeout(function() {\n",
       "                var nbb_cell_id = 16;\n",
       "                var nbb_unformatted_code = \"# Convert dates to a datetime format\\norders['order_date'] = pd.to_datetime(orders['order_date'])\\norders['ship_date'] = pd.to_datetime(orders['ship_date'])\";\n",
       "                var nbb_formatted_code = \"# Convert dates to a datetime format\\norders[\\\"order_date\\\"] = pd.to_datetime(orders[\\\"order_date\\\"])\\norders[\\\"ship_date\\\"] = pd.to_datetime(orders[\\\"ship_date\\\"])\";\n",
       "                var nbb_cells = Jupyter.notebook.get_cells();\n",
       "                for (var i = 0; i < nbb_cells.length; ++i) {\n",
       "                    if (nbb_cells[i].input_prompt_number == nbb_cell_id) {\n",
       "                        if (nbb_cells[i].get_text() == nbb_unformatted_code) {\n",
       "                             nbb_cells[i].set_text(nbb_formatted_code);\n",
       "                        }\n",
       "                        break;\n",
       "                    }\n",
       "                }\n",
       "            }, 500);\n",
       "            "
      ],
      "text/plain": [
       "<IPython.core.display.Javascript object>"
      ]
     },
     "metadata": {},
     "output_type": "display_data"
    }
   ],
   "source": [
    "# Convert dates to a datetime format\n",
    "orders['order_date'] = pd.to_datetime(orders['order_date'])\n",
    "orders['ship_date'] = pd.to_datetime(orders['ship_date'])\n"
   ]
  },
  {
   "cell_type": "markdown",
   "id": "a86f615e",
   "metadata": {},
   "source": [
    "<h3 style=\"color:#4682B4\">Display a sample of the returns dataframe</h3>\n"
   ]
  },
  {
   "cell_type": "code",
   "execution_count": 17,
   "id": "5254fc4a",
   "metadata": {},
   "outputs": [
    {
     "data": {
      "text/html": [
       "<div>\n",
       "<style scoped>\n",
       "    .dataframe tbody tr th:only-of-type {\n",
       "        vertical-align: middle;\n",
       "    }\n",
       "\n",
       "    .dataframe tbody tr th {\n",
       "        vertical-align: top;\n",
       "    }\n",
       "\n",
       "    .dataframe thead th {\n",
       "        text-align: right;\n",
       "    }\n",
       "</style>\n",
       "<table border=\"1\" class=\"dataframe\">\n",
       "  <thead>\n",
       "    <tr style=\"text-align: right;\">\n",
       "      <th></th>\n",
       "      <th>order_id</th>\n",
       "      <th>return_date</th>\n",
       "      <th>Category</th>\n",
       "      <th>Sales</th>\n",
       "      <th>Profit</th>\n",
       "      <th>Profit Margin</th>\n",
       "      <th>Margin Category</th>\n",
       "      <th>State</th>\n",
       "      <th>Customer Name</th>\n",
       "      <th>return_quantity</th>\n",
       "      <th>reason_returned</th>\n",
       "    </tr>\n",
       "  </thead>\n",
       "  <tbody>\n",
       "    <tr>\n",
       "      <th>0</th>\n",
       "      <td>AE-2019-5740368</td>\n",
       "      <td>2020-01-06</td>\n",
       "      <td>Office Supplies</td>\n",
       "      <td>77.26</td>\n",
       "      <td>25.4958</td>\n",
       "      <td>0.33000</td>\n",
       "      <td>Medium</td>\n",
       "      <td>Illinois</td>\n",
       "      <td>Greg Hansen</td>\n",
       "      <td>1</td>\n",
       "      <td>Not Given</td>\n",
       "    </tr>\n",
       "    <tr>\n",
       "      <th>1</th>\n",
       "      <td>AG-2019-3960042</td>\n",
       "      <td>2019-04-24</td>\n",
       "      <td>Office Supplies</td>\n",
       "      <td>130.32</td>\n",
       "      <td>0.0000</td>\n",
       "      <td>0.00000</td>\n",
       "      <td>Medium</td>\n",
       "      <td>Indiana</td>\n",
       "      <td>Anemone Ratner</td>\n",
       "      <td>1</td>\n",
       "      <td>Not Given</td>\n",
       "    </tr>\n",
       "    <tr>\n",
       "      <th>2</th>\n",
       "      <td>AG-2019-553166</td>\n",
       "      <td>2020-01-04</td>\n",
       "      <td>Office Supplies</td>\n",
       "      <td>92.88</td>\n",
       "      <td>9.2880</td>\n",
       "      <td>0.10000</td>\n",
       "      <td>Medium</td>\n",
       "      <td>Michigan</td>\n",
       "      <td>Robert Dilbeck</td>\n",
       "      <td>1</td>\n",
       "      <td>Not Needed</td>\n",
       "    </tr>\n",
       "    <tr>\n",
       "      <th>3</th>\n",
       "      <td>AG-2019-5829085</td>\n",
       "      <td>2019-04-18</td>\n",
       "      <td>Office Supplies</td>\n",
       "      <td>130.32</td>\n",
       "      <td>0.0000</td>\n",
       "      <td>0.00000</td>\n",
       "      <td>Medium</td>\n",
       "      <td>Michigan</td>\n",
       "      <td>Anemone Ratner</td>\n",
       "      <td>1</td>\n",
       "      <td>Not Given</td>\n",
       "    </tr>\n",
       "    <tr>\n",
       "      <th>4</th>\n",
       "      <td>AG-2019-8240</td>\n",
       "      <td>2019-03-23</td>\n",
       "      <td>Office Supplies</td>\n",
       "      <td>130.32</td>\n",
       "      <td>51.8400</td>\n",
       "      <td>0.39779</td>\n",
       "      <td>Medium</td>\n",
       "      <td>Texas</td>\n",
       "      <td>Anemone Ratner</td>\n",
       "      <td>1</td>\n",
       "      <td>Not Given</td>\n",
       "    </tr>\n",
       "  </tbody>\n",
       "</table>\n",
       "</div>"
      ],
      "text/plain": [
       "          order_id return_date         Category   Sales   Profit  \\\n",
       "0  AE-2019-5740368  2020-01-06  Office Supplies   77.26  25.4958   \n",
       "1  AG-2019-3960042  2019-04-24  Office Supplies  130.32   0.0000   \n",
       "2   AG-2019-553166  2020-01-04  Office Supplies   92.88   9.2880   \n",
       "3  AG-2019-5829085  2019-04-18  Office Supplies  130.32   0.0000   \n",
       "4     AG-2019-8240  2019-03-23  Office Supplies  130.32  51.8400   \n",
       "\n",
       "   Profit Margin Margin Category     State   Customer Name  return_quantity  \\\n",
       "0        0.33000          Medium  Illinois     Greg Hansen                1   \n",
       "1        0.00000          Medium   Indiana  Anemone Ratner                1   \n",
       "2        0.10000          Medium  Michigan  Robert Dilbeck                1   \n",
       "3        0.00000          Medium  Michigan  Anemone Ratner                1   \n",
       "4        0.39779          Medium     Texas  Anemone Ratner                1   \n",
       "\n",
       "  reason_returned  \n",
       "0       Not Given  \n",
       "1       Not Given  \n",
       "2      Not Needed  \n",
       "3       Not Given  \n",
       "4       Not Given  "
      ]
     },
     "execution_count": 17,
     "metadata": {},
     "output_type": "execute_result"
    },
    {
     "data": {
      "application/javascript": [
       "\n",
       "            setTimeout(function() {\n",
       "                var nbb_cell_id = 17;\n",
       "                var nbb_unformatted_code = \"returns.head()\";\n",
       "                var nbb_formatted_code = \"returns.head()\";\n",
       "                var nbb_cells = Jupyter.notebook.get_cells();\n",
       "                for (var i = 0; i < nbb_cells.length; ++i) {\n",
       "                    if (nbb_cells[i].input_prompt_number == nbb_cell_id) {\n",
       "                        if (nbb_cells[i].get_text() == nbb_unformatted_code) {\n",
       "                             nbb_cells[i].set_text(nbb_formatted_code);\n",
       "                        }\n",
       "                        break;\n",
       "                    }\n",
       "                }\n",
       "            }, 500);\n",
       "            "
      ],
      "text/plain": [
       "<IPython.core.display.Javascript object>"
      ]
     },
     "metadata": {},
     "output_type": "display_data"
    }
   ],
   "source": [
    "returns.head()"
   ]
  },
  {
   "cell_type": "markdown",
   "id": "d6e2860c",
   "metadata": {},
   "source": [
    "<div style=\"border-top: 3px solid black\"></div>"
   ]
  },
  {
   "cell_type": "markdown",
   "id": "37248290",
   "metadata": {},
   "source": [
    "<h3 style=\"color:#4682B4\">Dates to Datetime (as opposed to string format)</h3>\n"
   ]
  },
  {
   "cell_type": "code",
   "execution_count": 18,
   "id": "27200690",
   "metadata": {},
   "outputs": [
    {
     "name": "stdout",
     "output_type": "stream",
     "text": [
      "0    2020-01-06\n",
      "1    2019-04-24\n",
      "2    2020-01-04\n",
      "3    2019-04-18\n",
      "4    2019-03-23\n",
      "Name: return_date, dtype: object\n"
     ]
    },
    {
     "data": {
      "application/javascript": [
       "\n",
       "            setTimeout(function() {\n",
       "                var nbb_cell_id = 18;\n",
       "                var nbb_unformatted_code = \"# Are dates in a string format?\\nprint(returns['return_date'].head())\";\n",
       "                var nbb_formatted_code = \"# Are dates in a string format?\\nprint(returns[\\\"return_date\\\"].head())\";\n",
       "                var nbb_cells = Jupyter.notebook.get_cells();\n",
       "                for (var i = 0; i < nbb_cells.length; ++i) {\n",
       "                    if (nbb_cells[i].input_prompt_number == nbb_cell_id) {\n",
       "                        if (nbb_cells[i].get_text() == nbb_unformatted_code) {\n",
       "                             nbb_cells[i].set_text(nbb_formatted_code);\n",
       "                        }\n",
       "                        break;\n",
       "                    }\n",
       "                }\n",
       "            }, 500);\n",
       "            "
      ],
      "text/plain": [
       "<IPython.core.display.Javascript object>"
      ]
     },
     "metadata": {},
     "output_type": "display_data"
    }
   ],
   "source": [
    "# Are dates in a string format?\n",
    "print(returns['return_date'].head())\n"
   ]
  },
  {
   "cell_type": "code",
   "execution_count": 19,
   "id": "3391857f",
   "metadata": {},
   "outputs": [
    {
     "data": {
      "application/javascript": [
       "\n",
       "            setTimeout(function() {\n",
       "                var nbb_cell_id = 19;\n",
       "                var nbb_unformatted_code = \"# Convert dates to a datetime format\\nreturns[\\\"return_date\\\"] = pd.to_datetime(returns[\\\"return_date\\\"])\";\n",
       "                var nbb_formatted_code = \"# Convert dates to a datetime format\\nreturns[\\\"return_date\\\"] = pd.to_datetime(returns[\\\"return_date\\\"])\";\n",
       "                var nbb_cells = Jupyter.notebook.get_cells();\n",
       "                for (var i = 0; i < nbb_cells.length; ++i) {\n",
       "                    if (nbb_cells[i].input_prompt_number == nbb_cell_id) {\n",
       "                        if (nbb_cells[i].get_text() == nbb_unformatted_code) {\n",
       "                             nbb_cells[i].set_text(nbb_formatted_code);\n",
       "                        }\n",
       "                        break;\n",
       "                    }\n",
       "                }\n",
       "            }, 500);\n",
       "            "
      ],
      "text/plain": [
       "<IPython.core.display.Javascript object>"
      ]
     },
     "metadata": {},
     "output_type": "display_data"
    }
   ],
   "source": [
    "# Convert dates to a datetime format\n",
    "returns[\"return_date\"] = pd.to_datetime(returns[\"return_date\"])"
   ]
  },
  {
   "cell_type": "code",
   "execution_count": 20,
   "id": "dfe48fe9",
   "metadata": {},
   "outputs": [
    {
     "name": "stdout",
     "output_type": "stream",
     "text": [
      "<class 'pandas.core.frame.DataFrame'>\n",
      "RangeIndex: 24059 entries, 0 to 24058\n",
      "Data columns (total 28 columns):\n",
      " #   Column            Non-Null Count  Dtype         \n",
      "---  ------            --------------  -----         \n",
      " 0   order_id          24059 non-null  object        \n",
      " 1   order_info_id     24059 non-null  object        \n",
      " 2   order_id_number   24059 non-null  int64         \n",
      " 3   order_date        24059 non-null  datetime64[ns]\n",
      " 4   order_weekday     24059 non-null  object        \n",
      " 5   order_month       24059 non-null  object        \n",
      " 6   ship_date         24059 non-null  datetime64[ns]\n",
      " 7   ship_mode         24059 non-null  object        \n",
      " 8   product_id        24059 non-null  object        \n",
      " 9   category          24059 non-null  object        \n",
      " 10  sub_category      24059 non-null  object        \n",
      " 11  product_name      24059 non-null  object        \n",
      " 12  unit_cost         24059 non-null  float64       \n",
      " 13  sales             24059 non-null  float64       \n",
      " 14  profit            24059 non-null  float64       \n",
      " 15  profit_margin     24059 non-null  float64       \n",
      " 16  quantity          24059 non-null  int64         \n",
      " 17  discount          24059 non-null  float64       \n",
      " 18  discount_over_30  24059 non-null  int64         \n",
      " 19  region_id         24059 non-null  int64         \n",
      " 20  postal_code       24059 non-null  int64         \n",
      " 21  city              24059 non-null  object        \n",
      " 22  state             24059 non-null  object        \n",
      " 23  sub_region        24059 non-null  object        \n",
      " 24  salesperson       24059 non-null  object        \n",
      " 25  customer_id       24059 non-null  object        \n",
      " 26  customer_name     24059 non-null  object        \n",
      " 27  segment           24059 non-null  object        \n",
      "dtypes: datetime64[ns](2), float64(5), int64(5), object(16)\n",
      "memory usage: 5.1+ MB\n"
     ]
    },
    {
     "data": {
      "application/javascript": [
       "\n",
       "            setTimeout(function() {\n",
       "                var nbb_cell_id = 20;\n",
       "                var nbb_unformatted_code = \"# Verification\\norders.info()\";\n",
       "                var nbb_formatted_code = \"# Verification\\norders.info()\";\n",
       "                var nbb_cells = Jupyter.notebook.get_cells();\n",
       "                for (var i = 0; i < nbb_cells.length; ++i) {\n",
       "                    if (nbb_cells[i].input_prompt_number == nbb_cell_id) {\n",
       "                        if (nbb_cells[i].get_text() == nbb_unformatted_code) {\n",
       "                             nbb_cells[i].set_text(nbb_formatted_code);\n",
       "                        }\n",
       "                        break;\n",
       "                    }\n",
       "                }\n",
       "            }, 500);\n",
       "            "
      ],
      "text/plain": [
       "<IPython.core.display.Javascript object>"
      ]
     },
     "metadata": {},
     "output_type": "display_data"
    }
   ],
   "source": [
    "# Verification\n",
    "orders.info()"
   ]
  },
  {
   "cell_type": "code",
   "execution_count": 21,
   "id": "65e58e52",
   "metadata": {},
   "outputs": [
    {
     "data": {
      "text/plain": [
       "(24059, 28)"
      ]
     },
     "execution_count": 21,
     "metadata": {},
     "output_type": "execute_result"
    },
    {
     "data": {
      "application/javascript": [
       "\n",
       "            setTimeout(function() {\n",
       "                var nbb_cell_id = 21;\n",
       "                var nbb_unformatted_code = \"orders.shape\";\n",
       "                var nbb_formatted_code = \"orders.shape\";\n",
       "                var nbb_cells = Jupyter.notebook.get_cells();\n",
       "                for (var i = 0; i < nbb_cells.length; ++i) {\n",
       "                    if (nbb_cells[i].input_prompt_number == nbb_cell_id) {\n",
       "                        if (nbb_cells[i].get_text() == nbb_unformatted_code) {\n",
       "                             nbb_cells[i].set_text(nbb_formatted_code);\n",
       "                        }\n",
       "                        break;\n",
       "                    }\n",
       "                }\n",
       "            }, 500);\n",
       "            "
      ],
      "text/plain": [
       "<IPython.core.display.Javascript object>"
      ]
     },
     "metadata": {},
     "output_type": "display_data"
    }
   ],
   "source": [
    "orders.shape"
   ]
  },
  {
   "cell_type": "code",
   "execution_count": 22,
   "id": "6d315f2c",
   "metadata": {},
   "outputs": [
    {
     "data": {
      "text/plain": [
       "object            16\n",
       "int64              5\n",
       "float64            5\n",
       "datetime64[ns]     2\n",
       "dtype: int64"
      ]
     },
     "execution_count": 22,
     "metadata": {},
     "output_type": "execute_result"
    },
    {
     "data": {
      "application/javascript": [
       "\n",
       "            setTimeout(function() {\n",
       "                var nbb_cell_id = 22;\n",
       "                var nbb_unformatted_code = \"orders.dtypes.value_counts()\";\n",
       "                var nbb_formatted_code = \"orders.dtypes.value_counts()\";\n",
       "                var nbb_cells = Jupyter.notebook.get_cells();\n",
       "                for (var i = 0; i < nbb_cells.length; ++i) {\n",
       "                    if (nbb_cells[i].input_prompt_number == nbb_cell_id) {\n",
       "                        if (nbb_cells[i].get_text() == nbb_unformatted_code) {\n",
       "                             nbb_cells[i].set_text(nbb_formatted_code);\n",
       "                        }\n",
       "                        break;\n",
       "                    }\n",
       "                }\n",
       "            }, 500);\n",
       "            "
      ],
      "text/plain": [
       "<IPython.core.display.Javascript object>"
      ]
     },
     "metadata": {},
     "output_type": "display_data"
    }
   ],
   "source": [
    "orders.dtypes.value_counts()\n"
   ]
  },
  {
   "cell_type": "code",
   "execution_count": 23,
   "id": "06e542de",
   "metadata": {},
   "outputs": [
    {
     "name": "stdout",
     "output_type": "stream",
     "text": [
      "<class 'pandas.core.frame.DataFrame'>\n",
      "Int64Index: 1208 entries, 0 to 1208\n",
      "Data columns (total 11 columns):\n",
      " #   Column           Non-Null Count  Dtype         \n",
      "---  ------           --------------  -----         \n",
      " 0   order_id         1208 non-null   object        \n",
      " 1   return_date      1208 non-null   datetime64[ns]\n",
      " 2   Category         1208 non-null   object        \n",
      " 3   Sales            1208 non-null   float64       \n",
      " 4   Profit           1208 non-null   float64       \n",
      " 5   Profit Margin    1208 non-null   float64       \n",
      " 6   Margin Category  1208 non-null   object        \n",
      " 7   State            1208 non-null   object        \n",
      " 8   Customer Name    1208 non-null   object        \n",
      " 9   return_quantity  1208 non-null   int64         \n",
      " 10  reason_returned  1208 non-null   object        \n",
      "dtypes: datetime64[ns](1), float64(3), int64(1), object(6)\n",
      "memory usage: 113.2+ KB\n"
     ]
    },
    {
     "data": {
      "application/javascript": [
       "\n",
       "            setTimeout(function() {\n",
       "                var nbb_cell_id = 23;\n",
       "                var nbb_unformatted_code = \"returns.info()\";\n",
       "                var nbb_formatted_code = \"returns.info()\";\n",
       "                var nbb_cells = Jupyter.notebook.get_cells();\n",
       "                for (var i = 0; i < nbb_cells.length; ++i) {\n",
       "                    if (nbb_cells[i].input_prompt_number == nbb_cell_id) {\n",
       "                        if (nbb_cells[i].get_text() == nbb_unformatted_code) {\n",
       "                             nbb_cells[i].set_text(nbb_formatted_code);\n",
       "                        }\n",
       "                        break;\n",
       "                    }\n",
       "                }\n",
       "            }, 500);\n",
       "            "
      ],
      "text/plain": [
       "<IPython.core.display.Javascript object>"
      ]
     },
     "metadata": {},
     "output_type": "display_data"
    }
   ],
   "source": [
    "returns.info()"
   ]
  },
  {
   "cell_type": "markdown",
   "id": "ec17c011",
   "metadata": {},
   "source": [
    "<div style=\"border-top: 3px solid black\"></div>"
   ]
  },
  {
   "cell_type": "markdown",
   "id": "4edafd77",
   "metadata": {},
   "source": [
    "<h3 style=\"color:#4682B4\">Check for high cardinality (unique values per feature)</h3>\n"
   ]
  },
  {
   "cell_type": "code",
   "execution_count": 24,
   "id": "fc221132",
   "metadata": {},
   "outputs": [
    {
     "data": {
      "text/plain": [
       "order_id            24022\n",
       "order_info_id          84\n",
       "order_id_number     23964\n",
       "order_date            365\n",
       "order_weekday           7\n",
       "order_month            12\n",
       "ship_date             371\n",
       "ship_mode               4\n",
       "product_id           6941\n",
       "category                3\n",
       "sub_category           17\n",
       "product_name         3154\n",
       "unit_cost            4247\n",
       "sales                8631\n",
       "profit                720\n",
       "profit_margin       10711\n",
       "quantity               14\n",
       "discount               14\n",
       "discount_over_30        2\n",
       "region_id               1\n",
       "postal_code           185\n",
       "city                  172\n",
       "state                  13\n",
       "sub_region              1\n",
       "salesperson             1\n",
       "customer_id          1476\n",
       "customer_name         794\n",
       "segment                 3\n",
       "dtype: int64"
      ]
     },
     "execution_count": 24,
     "metadata": {},
     "output_type": "execute_result"
    },
    {
     "data": {
      "application/javascript": [
       "\n",
       "            setTimeout(function() {\n",
       "                var nbb_cell_id = 24;\n",
       "                var nbb_unformatted_code = \"orders.nunique()\";\n",
       "                var nbb_formatted_code = \"orders.nunique()\";\n",
       "                var nbb_cells = Jupyter.notebook.get_cells();\n",
       "                for (var i = 0; i < nbb_cells.length; ++i) {\n",
       "                    if (nbb_cells[i].input_prompt_number == nbb_cell_id) {\n",
       "                        if (nbb_cells[i].get_text() == nbb_unformatted_code) {\n",
       "                             nbb_cells[i].set_text(nbb_formatted_code);\n",
       "                        }\n",
       "                        break;\n",
       "                    }\n",
       "                }\n",
       "            }, 500);\n",
       "            "
      ],
      "text/plain": [
       "<IPython.core.display.Javascript object>"
      ]
     },
     "metadata": {},
     "output_type": "display_data"
    }
   ],
   "source": [
    "orders.nunique()\n"
   ]
  },
  {
   "cell_type": "code",
   "execution_count": 25,
   "id": "aedd2652",
   "metadata": {},
   "outputs": [
    {
     "data": {
      "text/plain": [
       "order_id           1208\n",
       "return_date         353\n",
       "Category              3\n",
       "Sales               679\n",
       "Profit              643\n",
       "Profit Margin        50\n",
       "Margin Category       2\n",
       "State                13\n",
       "Customer Name       448\n",
       "return_quantity       3\n",
       "reason_returned       4\n",
       "dtype: int64"
      ]
     },
     "execution_count": 25,
     "metadata": {},
     "output_type": "execute_result"
    },
    {
     "data": {
      "application/javascript": [
       "\n",
       "            setTimeout(function() {\n",
       "                var nbb_cell_id = 25;\n",
       "                var nbb_unformatted_code = \"returns.nunique()\";\n",
       "                var nbb_formatted_code = \"returns.nunique()\";\n",
       "                var nbb_cells = Jupyter.notebook.get_cells();\n",
       "                for (var i = 0; i < nbb_cells.length; ++i) {\n",
       "                    if (nbb_cells[i].input_prompt_number == nbb_cell_id) {\n",
       "                        if (nbb_cells[i].get_text() == nbb_unformatted_code) {\n",
       "                             nbb_cells[i].set_text(nbb_formatted_code);\n",
       "                        }\n",
       "                        break;\n",
       "                    }\n",
       "                }\n",
       "            }, 500);\n",
       "            "
      ],
      "text/plain": [
       "<IPython.core.display.Javascript object>"
      ]
     },
     "metadata": {},
     "output_type": "display_data"
    }
   ],
   "source": [
    "returns.nunique()\n"
   ]
  },
  {
   "cell_type": "code",
   "execution_count": 26,
   "id": "b778ff20",
   "metadata": {},
   "outputs": [
    {
     "name": "stdout",
     "output_type": "stream",
     "text": [
      "order_id            False\n",
      "order_info_id       False\n",
      "order_id_number     False\n",
      "order_date          False\n",
      "order_weekday       False\n",
      "order_month         False\n",
      "ship_date           False\n",
      "ship_mode           False\n",
      "product_id          False\n",
      "category            False\n",
      "sub_category        False\n",
      "product_name        False\n",
      "unit_cost           False\n",
      "sales               False\n",
      "profit              False\n",
      "profit_margin       False\n",
      "quantity            False\n",
      "discount            False\n",
      "discount_over_30    False\n",
      "region_id           False\n",
      "postal_code         False\n",
      "city                False\n",
      "state               False\n",
      "sub_region          False\n",
      "salesperson         False\n",
      "customer_id         False\n",
      "customer_name       False\n",
      "segment             False\n",
      "dtype: bool\n",
      "order_id           False\n",
      "return_date        False\n",
      "Category           False\n",
      "Sales              False\n",
      "Profit             False\n",
      "Profit Margin      False\n",
      "Margin Category    False\n",
      "State              False\n",
      "Customer Name      False\n",
      "return_quantity    False\n",
      "reason_returned    False\n",
      "dtype: bool\n",
      "\n",
      "\n",
      "Number of total missing values in orders:  0\n",
      "Number of total missing values in returns:  0\n"
     ]
    },
    {
     "data": {
      "application/javascript": [
       "\n",
       "            setTimeout(function() {\n",
       "                var nbb_cell_id = 26;\n",
       "                var nbb_unformatted_code = \"print(orders.isnull().any())\\nprint(returns.isnull().any())\\nprint(\\\"\\\\n\\\")\\nprint(\\\"Number of total missing values in orders: \\\", orders.isnull().sum().sum())\\nprint(\\\"Number of total missing values in returns: \\\", returns.isnull().sum().sum())\";\n",
       "                var nbb_formatted_code = \"print(orders.isnull().any())\\nprint(returns.isnull().any())\\nprint(\\\"\\\\n\\\")\\nprint(\\\"Number of total missing values in orders: \\\", orders.isnull().sum().sum())\\nprint(\\\"Number of total missing values in returns: \\\", returns.isnull().sum().sum())\";\n",
       "                var nbb_cells = Jupyter.notebook.get_cells();\n",
       "                for (var i = 0; i < nbb_cells.length; ++i) {\n",
       "                    if (nbb_cells[i].input_prompt_number == nbb_cell_id) {\n",
       "                        if (nbb_cells[i].get_text() == nbb_unformatted_code) {\n",
       "                             nbb_cells[i].set_text(nbb_formatted_code);\n",
       "                        }\n",
       "                        break;\n",
       "                    }\n",
       "                }\n",
       "            }, 500);\n",
       "            "
      ],
      "text/plain": [
       "<IPython.core.display.Javascript object>"
      ]
     },
     "metadata": {},
     "output_type": "display_data"
    }
   ],
   "source": [
    "print(orders.isnull().any())\n",
    "print(returns.isnull().any())\n",
    "print(\"\\n\")\n",
    "print(\"Number of total missing values in orders: \", orders.isnull().sum().sum())\n",
    "print(\"Number of total missing values in returns: \", returns.isnull().sum().sum())\n"
   ]
  },
  {
   "cell_type": "code",
   "execution_count": null,
   "id": "3fe4b82e",
   "metadata": {},
   "outputs": [],
   "source": []
  },
  {
   "cell_type": "code",
   "execution_count": 27,
   "id": "187a926e",
   "metadata": {},
   "outputs": [
    {
     "data": {
      "text/html": [
       "<div>\n",
       "<style scoped>\n",
       "    .dataframe tbody tr th:only-of-type {\n",
       "        vertical-align: middle;\n",
       "    }\n",
       "\n",
       "    .dataframe tbody tr th {\n",
       "        vertical-align: top;\n",
       "    }\n",
       "\n",
       "    .dataframe thead th {\n",
       "        text-align: right;\n",
       "    }\n",
       "</style>\n",
       "<table border=\"1\" class=\"dataframe\">\n",
       "  <thead>\n",
       "    <tr style=\"text-align: right;\">\n",
       "      <th></th>\n",
       "      <th>order_id_number</th>\n",
       "      <th>unit_cost</th>\n",
       "      <th>sales</th>\n",
       "      <th>profit</th>\n",
       "      <th>profit_margin</th>\n",
       "      <th>quantity</th>\n",
       "      <th>discount</th>\n",
       "      <th>discount_over_30</th>\n",
       "      <th>region_id</th>\n",
       "      <th>postal_code</th>\n",
       "    </tr>\n",
       "  </thead>\n",
       "  <tbody>\n",
       "    <tr>\n",
       "      <th>count</th>\n",
       "      <td>24059.00</td>\n",
       "      <td>24059.00</td>\n",
       "      <td>24059.00</td>\n",
       "      <td>24059.00</td>\n",
       "      <td>24059.00</td>\n",
       "      <td>24059.00</td>\n",
       "      <td>24059.00</td>\n",
       "      <td>24059.00</td>\n",
       "      <td>24059.0</td>\n",
       "      <td>24059.00</td>\n",
       "    </tr>\n",
       "    <tr>\n",
       "      <th>mean</th>\n",
       "      <td>2943373.90</td>\n",
       "      <td>72.36</td>\n",
       "      <td>248.11</td>\n",
       "      <td>0.97</td>\n",
       "      <td>0.01</td>\n",
       "      <td>3.46</td>\n",
       "      <td>0.26</td>\n",
       "      <td>0.47</td>\n",
       "      <td>1488.0</td>\n",
       "      <td>65215.19</td>\n",
       "    </tr>\n",
       "    <tr>\n",
       "      <th>std</th>\n",
       "      <td>1765288.92</td>\n",
       "      <td>116.15</td>\n",
       "      <td>502.41</td>\n",
       "      <td>38.73</td>\n",
       "      <td>0.28</td>\n",
       "      <td>2.29</td>\n",
       "      <td>0.14</td>\n",
       "      <td>0.50</td>\n",
       "      <td>0.0</td>\n",
       "      <td>11352.61</td>\n",
       "    </tr>\n",
       "    <tr>\n",
       "      <th>min</th>\n",
       "      <td>40.00</td>\n",
       "      <td>0.42</td>\n",
       "      <td>0.44</td>\n",
       "      <td>-3839.99</td>\n",
       "      <td>-2.75</td>\n",
       "      <td>1.00</td>\n",
       "      <td>0.00</td>\n",
       "      <td>0.00</td>\n",
       "      <td>1488.0</td>\n",
       "      <td>46060.00</td>\n",
       "    </tr>\n",
       "    <tr>\n",
       "      <th>25%</th>\n",
       "      <td>1411105.00</td>\n",
       "      <td>11.60</td>\n",
       "      <td>29.91</td>\n",
       "      <td>0.10</td>\n",
       "      <td>0.00</td>\n",
       "      <td>2.00</td>\n",
       "      <td>0.15</td>\n",
       "      <td>0.00</td>\n",
       "      <td>1488.0</td>\n",
       "      <td>55369.00</td>\n",
       "    </tr>\n",
       "    <tr>\n",
       "      <th>50%</th>\n",
       "      <td>2935473.00</td>\n",
       "      <td>29.49</td>\n",
       "      <td>83.88</td>\n",
       "      <td>0.19</td>\n",
       "      <td>0.00</td>\n",
       "      <td>3.00</td>\n",
       "      <td>0.25</td>\n",
       "      <td>0.00</td>\n",
       "      <td>1488.0</td>\n",
       "      <td>63122.00</td>\n",
       "    </tr>\n",
       "    <tr>\n",
       "      <th>75%</th>\n",
       "      <td>4480046.00</td>\n",
       "      <td>83.31</td>\n",
       "      <td>248.15</td>\n",
       "      <td>0.29</td>\n",
       "      <td>0.01</td>\n",
       "      <td>5.00</td>\n",
       "      <td>0.35</td>\n",
       "      <td>1.00</td>\n",
       "      <td>1488.0</td>\n",
       "      <td>77095.00</td>\n",
       "    </tr>\n",
       "    <tr>\n",
       "      <th>max</th>\n",
       "      <td>5994245.00</td>\n",
       "      <td>2799.99</td>\n",
       "      <td>13999.96</td>\n",
       "      <td>1439.45</td>\n",
       "      <td>41.25</td>\n",
       "      <td>14.00</td>\n",
       "      <td>0.65</td>\n",
       "      <td>1.00</td>\n",
       "      <td>1488.0</td>\n",
       "      <td>79907.00</td>\n",
       "    </tr>\n",
       "  </tbody>\n",
       "</table>\n",
       "</div>"
      ],
      "text/plain": [
       "       order_id_number  unit_cost     sales    profit  profit_margin  \\\n",
       "count         24059.00   24059.00  24059.00  24059.00       24059.00   \n",
       "mean        2943373.90      72.36    248.11      0.97           0.01   \n",
       "std         1765288.92     116.15    502.41     38.73           0.28   \n",
       "min              40.00       0.42      0.44  -3839.99          -2.75   \n",
       "25%         1411105.00      11.60     29.91      0.10           0.00   \n",
       "50%         2935473.00      29.49     83.88      0.19           0.00   \n",
       "75%         4480046.00      83.31    248.15      0.29           0.01   \n",
       "max         5994245.00    2799.99  13999.96   1439.45          41.25   \n",
       "\n",
       "       quantity  discount  discount_over_30  region_id  postal_code  \n",
       "count  24059.00  24059.00          24059.00    24059.0     24059.00  \n",
       "mean       3.46      0.26              0.47     1488.0     65215.19  \n",
       "std        2.29      0.14              0.50        0.0     11352.61  \n",
       "min        1.00      0.00              0.00     1488.0     46060.00  \n",
       "25%        2.00      0.15              0.00     1488.0     55369.00  \n",
       "50%        3.00      0.25              0.00     1488.0     63122.00  \n",
       "75%        5.00      0.35              1.00     1488.0     77095.00  \n",
       "max       14.00      0.65              1.00     1488.0     79907.00  "
      ]
     },
     "execution_count": 27,
     "metadata": {},
     "output_type": "execute_result"
    },
    {
     "data": {
      "application/javascript": [
       "\n",
       "            setTimeout(function() {\n",
       "                var nbb_cell_id = 27;\n",
       "                var nbb_unformatted_code = \"orders.describe().round(2)\";\n",
       "                var nbb_formatted_code = \"orders.describe().round(2)\";\n",
       "                var nbb_cells = Jupyter.notebook.get_cells();\n",
       "                for (var i = 0; i < nbb_cells.length; ++i) {\n",
       "                    if (nbb_cells[i].input_prompt_number == nbb_cell_id) {\n",
       "                        if (nbb_cells[i].get_text() == nbb_unformatted_code) {\n",
       "                             nbb_cells[i].set_text(nbb_formatted_code);\n",
       "                        }\n",
       "                        break;\n",
       "                    }\n",
       "                }\n",
       "            }, 500);\n",
       "            "
      ],
      "text/plain": [
       "<IPython.core.display.Javascript object>"
      ]
     },
     "metadata": {},
     "output_type": "display_data"
    }
   ],
   "source": [
    "orders.describe().round(2)"
   ]
  },
  {
   "cell_type": "code",
   "execution_count": 28,
   "id": "fd4323aa",
   "metadata": {},
   "outputs": [
    {
     "data": {
      "text/html": [
       "<div>\n",
       "<style scoped>\n",
       "    .dataframe tbody tr th:only-of-type {\n",
       "        vertical-align: middle;\n",
       "    }\n",
       "\n",
       "    .dataframe tbody tr th {\n",
       "        vertical-align: top;\n",
       "    }\n",
       "\n",
       "    .dataframe thead th {\n",
       "        text-align: right;\n",
       "    }\n",
       "</style>\n",
       "<table border=\"1\" class=\"dataframe\">\n",
       "  <thead>\n",
       "    <tr style=\"text-align: right;\">\n",
       "      <th></th>\n",
       "      <th>Sales</th>\n",
       "      <th>Profit</th>\n",
       "      <th>Profit Margin</th>\n",
       "      <th>return_quantity</th>\n",
       "    </tr>\n",
       "  </thead>\n",
       "  <tbody>\n",
       "    <tr>\n",
       "      <th>count</th>\n",
       "      <td>1208.00</td>\n",
       "      <td>1208.00</td>\n",
       "      <td>1208.00</td>\n",
       "      <td>1208.00</td>\n",
       "    </tr>\n",
       "    <tr>\n",
       "      <th>mean</th>\n",
       "      <td>458.29</td>\n",
       "      <td>119.77</td>\n",
       "      <td>0.20</td>\n",
       "      <td>1.05</td>\n",
       "    </tr>\n",
       "    <tr>\n",
       "      <th>std</th>\n",
       "      <td>737.96</td>\n",
       "      <td>238.30</td>\n",
       "      <td>0.16</td>\n",
       "      <td>0.23</td>\n",
       "    </tr>\n",
       "    <tr>\n",
       "      <th>min</th>\n",
       "      <td>1.41</td>\n",
       "      <td>-135.31</td>\n",
       "      <td>-1.65</td>\n",
       "      <td>1.00</td>\n",
       "    </tr>\n",
       "    <tr>\n",
       "      <th>25%</th>\n",
       "      <td>66.54</td>\n",
       "      <td>7.77</td>\n",
       "      <td>0.10</td>\n",
       "      <td>1.00</td>\n",
       "    </tr>\n",
       "    <tr>\n",
       "      <th>50%</th>\n",
       "      <td>168.72</td>\n",
       "      <td>25.04</td>\n",
       "      <td>0.20</td>\n",
       "      <td>1.00</td>\n",
       "    </tr>\n",
       "    <tr>\n",
       "      <th>75%</th>\n",
       "      <td>473.68</td>\n",
       "      <td>98.61</td>\n",
       "      <td>0.29</td>\n",
       "      <td>1.00</td>\n",
       "    </tr>\n",
       "    <tr>\n",
       "      <th>max</th>\n",
       "      <td>5729.35</td>\n",
       "      <td>1890.69</td>\n",
       "      <td>0.90</td>\n",
       "      <td>3.00</td>\n",
       "    </tr>\n",
       "  </tbody>\n",
       "</table>\n",
       "</div>"
      ],
      "text/plain": [
       "         Sales   Profit  Profit Margin  return_quantity\n",
       "count  1208.00  1208.00        1208.00          1208.00\n",
       "mean    458.29   119.77           0.20             1.05\n",
       "std     737.96   238.30           0.16             0.23\n",
       "min       1.41  -135.31          -1.65             1.00\n",
       "25%      66.54     7.77           0.10             1.00\n",
       "50%     168.72    25.04           0.20             1.00\n",
       "75%     473.68    98.61           0.29             1.00\n",
       "max    5729.35  1890.69           0.90             3.00"
      ]
     },
     "execution_count": 28,
     "metadata": {},
     "output_type": "execute_result"
    },
    {
     "data": {
      "application/javascript": [
       "\n",
       "            setTimeout(function() {\n",
       "                var nbb_cell_id = 28;\n",
       "                var nbb_unformatted_code = \"returns.describe().round(2)\";\n",
       "                var nbb_formatted_code = \"returns.describe().round(2)\";\n",
       "                var nbb_cells = Jupyter.notebook.get_cells();\n",
       "                for (var i = 0; i < nbb_cells.length; ++i) {\n",
       "                    if (nbb_cells[i].input_prompt_number == nbb_cell_id) {\n",
       "                        if (nbb_cells[i].get_text() == nbb_unformatted_code) {\n",
       "                             nbb_cells[i].set_text(nbb_formatted_code);\n",
       "                        }\n",
       "                        break;\n",
       "                    }\n",
       "                }\n",
       "            }, 500);\n",
       "            "
      ],
      "text/plain": [
       "<IPython.core.display.Javascript object>"
      ]
     },
     "metadata": {},
     "output_type": "display_data"
    }
   ],
   "source": [
    "returns.describe().round(2)"
   ]
  },
  {
   "cell_type": "code",
   "execution_count": 29,
   "id": "87486c66",
   "metadata": {},
   "outputs": [
    {
     "data": {
      "application/javascript": [
       "\n",
       "            setTimeout(function() {\n",
       "                var nbb_cell_id = 29;\n",
       "                var nbb_unformatted_code = \"# drop order_id_number\\norders.drop('order_id_number', axis=1, inplace=True)\";\n",
       "                var nbb_formatted_code = \"# drop order_id_number\\norders.drop(\\\"order_id_number\\\", axis=1, inplace=True)\";\n",
       "                var nbb_cells = Jupyter.notebook.get_cells();\n",
       "                for (var i = 0; i < nbb_cells.length; ++i) {\n",
       "                    if (nbb_cells[i].input_prompt_number == nbb_cell_id) {\n",
       "                        if (nbb_cells[i].get_text() == nbb_unformatted_code) {\n",
       "                             nbb_cells[i].set_text(nbb_formatted_code);\n",
       "                        }\n",
       "                        break;\n",
       "                    }\n",
       "                }\n",
       "            }, 500);\n",
       "            "
      ],
      "text/plain": [
       "<IPython.core.display.Javascript object>"
      ]
     },
     "metadata": {},
     "output_type": "display_data"
    }
   ],
   "source": [
    "# drop order_id_number\n",
    "orders.drop('order_id_number', axis=1, inplace=True)\n"
   ]
  },
  {
   "cell_type": "code",
   "execution_count": 30,
   "id": "77d8c1b2",
   "metadata": {},
   "outputs": [
    {
     "data": {
      "application/javascript": [
       "\n",
       "            setTimeout(function() {\n",
       "                var nbb_cell_id = 30;\n",
       "                var nbb_unformatted_code = \"# drop discount_over_30\\norders.drop('discount_over_30', axis=1, inplace=True)\";\n",
       "                var nbb_formatted_code = \"# drop discount_over_30\\norders.drop(\\\"discount_over_30\\\", axis=1, inplace=True)\";\n",
       "                var nbb_cells = Jupyter.notebook.get_cells();\n",
       "                for (var i = 0; i < nbb_cells.length; ++i) {\n",
       "                    if (nbb_cells[i].input_prompt_number == nbb_cell_id) {\n",
       "                        if (nbb_cells[i].get_text() == nbb_unformatted_code) {\n",
       "                             nbb_cells[i].set_text(nbb_formatted_code);\n",
       "                        }\n",
       "                        break;\n",
       "                    }\n",
       "                }\n",
       "            }, 500);\n",
       "            "
      ],
      "text/plain": [
       "<IPython.core.display.Javascript object>"
      ]
     },
     "metadata": {},
     "output_type": "display_data"
    }
   ],
   "source": [
    "# drop discount_over_30\n",
    "orders.drop('discount_over_30', axis=1, inplace=True)\n"
   ]
  },
  {
   "cell_type": "code",
   "execution_count": 31,
   "id": "ce74f655",
   "metadata": {},
   "outputs": [
    {
     "data": {
      "application/javascript": [
       "\n",
       "            setTimeout(function() {\n",
       "                var nbb_cell_id = 31;\n",
       "                var nbb_unformatted_code = \"# drop postal_code\\norders.drop('postal_code', axis=1, inplace=True)\";\n",
       "                var nbb_formatted_code = \"# drop postal_code\\norders.drop(\\\"postal_code\\\", axis=1, inplace=True)\";\n",
       "                var nbb_cells = Jupyter.notebook.get_cells();\n",
       "                for (var i = 0; i < nbb_cells.length; ++i) {\n",
       "                    if (nbb_cells[i].input_prompt_number == nbb_cell_id) {\n",
       "                        if (nbb_cells[i].get_text() == nbb_unformatted_code) {\n",
       "                             nbb_cells[i].set_text(nbb_formatted_code);\n",
       "                        }\n",
       "                        break;\n",
       "                    }\n",
       "                }\n",
       "            }, 500);\n",
       "            "
      ],
      "text/plain": [
       "<IPython.core.display.Javascript object>"
      ]
     },
     "metadata": {},
     "output_type": "display_data"
    }
   ],
   "source": [
    "# drop postal_code\n",
    "orders.drop('postal_code', axis=1, inplace=True)\n"
   ]
  },
  {
   "cell_type": "code",
   "execution_count": 32,
   "id": "9b5572e0",
   "metadata": {},
   "outputs": [
    {
     "name": "stdout",
     "output_type": "stream",
     "text": [
      "Number of orders with negative profit:  202\n",
      "           order_id order_info_id order_date order_weekday order_month  \\\n",
      "367  CA-2019-102610       CA-2019 2019-11-05       Tuesday    November   \n",
      "387  CA-2019-104864       CA-2019 2019-11-19       Tuesday    November   \n",
      "410  CA-2019-107832       CA-2019 2019-11-24        Sunday    November   \n",
      "425  CA-2019-109085       CA-2019 2019-02-18        Monday    February   \n",
      "492  CA-2019-117394       CA-2019 2019-09-05      Thursday   September   \n",
      "\n",
      "     ship_date       ship_mode       product_id         category sub_category  \\\n",
      "367 2019-11-09  Standard Class  OFF-BI-10004364  Office Supplies      Binders   \n",
      "387 2019-11-24    Second Class  OFF-ST-10002301  Office Supplies      Storage   \n",
      "410 2019-11-27    Second Class  OFF-BI-10001658  Office Supplies      Binders   \n",
      "425 2019-02-21     First Class  FUR-CH-10003981        Furniture       Chairs   \n",
      "492 2019-09-11  Standard Class  TEC-AC-10000199       Technology  Accessories   \n",
      "\n",
      "                                          product_name  unit_cost   sales  \\\n",
      "367                            Storex Dura Pro Binders       1.78    3.56   \n",
      "387                        Tennsco Commercial Shelving      16.27   81.36   \n",
      "410                   GBC Standard Therm-A-Bind Covers       7.48    7.48   \n",
      "425  Global Commerce Series Low-Back Swivel/Tilt Ch...     179.89  899.43   \n",
      "492          Kingston Digital DataTraveler 8GB USB 2.0       4.76   19.04   \n",
      "\n",
      "     profit  profit_margin  quantity  discount  region_id          city  \\\n",
      "367   -2.97      -0.834270         2      0.10       1488     Milwaukee   \n",
      "387  -19.32      -0.237463         5      0.05       1488       Houston   \n",
      "410   -5.98      -0.799465         1      0.20       1488  Grand Rapids   \n",
      "425  -12.85      -0.014287         5      0.25       1488      Richmond   \n",
      "492   -1.43      -0.075105         4      0.10       1488        Dallas   \n",
      "\n",
      "         state             sub_region        salesperson customer_id  \\\n",
      "367  Wisconsin  Central United States  Annelise Williams    CA-12265   \n",
      "387      Texas  Central United States  Annelise Williams    JS-15685   \n",
      "410   Michigan  Central United States  Annelise Williams    FH-14275   \n",
      "425    Indiana  Central United States  Annelise Williams    CK-12325   \n",
      "492      Texas  Central United States  Annelise Williams    MM-17920   \n",
      "\n",
      "          customer_name      segment  \n",
      "367  Christina Anderson     Consumer  \n",
      "387            Jim Sink    Corporate  \n",
      "410        Frank Hawley    Corporate  \n",
      "425  Christine Kargatis  Home Office  \n",
      "492       Michael Moore     Consumer  \n"
     ]
    },
    {
     "data": {
      "application/javascript": [
       "\n",
       "            setTimeout(function() {\n",
       "                var nbb_cell_id = 32;\n",
       "                var nbb_unformatted_code = \"# Get the orders where the profit is negative\\nnegative_profit_orders = orders[orders['profit'] < 0]\\n\\n# Print the number of orders with negative profit\\nprint(\\\"Number of orders with negative profit: \\\", len(negative_profit_orders))\\n\\n# You could examine these orders in more detail, such as:\\nprint(negative_profit_orders.head())\";\n",
       "                var nbb_formatted_code = \"# Get the orders where the profit is negative\\nnegative_profit_orders = orders[orders[\\\"profit\\\"] < 0]\\n\\n# Print the number of orders with negative profit\\nprint(\\\"Number of orders with negative profit: \\\", len(negative_profit_orders))\\n\\n# You could examine these orders in more detail, such as:\\nprint(negative_profit_orders.head())\";\n",
       "                var nbb_cells = Jupyter.notebook.get_cells();\n",
       "                for (var i = 0; i < nbb_cells.length; ++i) {\n",
       "                    if (nbb_cells[i].input_prompt_number == nbb_cell_id) {\n",
       "                        if (nbb_cells[i].get_text() == nbb_unformatted_code) {\n",
       "                             nbb_cells[i].set_text(nbb_formatted_code);\n",
       "                        }\n",
       "                        break;\n",
       "                    }\n",
       "                }\n",
       "            }, 500);\n",
       "            "
      ],
      "text/plain": [
       "<IPython.core.display.Javascript object>"
      ]
     },
     "metadata": {},
     "output_type": "display_data"
    }
   ],
   "source": [
    "# Get the orders where the profit is negative\n",
    "negative_profit_orders = orders[orders['profit'] < 0]\n",
    "\n",
    "# Print the number of orders with negative profit\n",
    "print(\"Number of orders with negative profit: \", len(negative_profit_orders))\n",
    "\n",
    "# You could examine these orders in more detail, such as:\n",
    "print(negative_profit_orders.head())\n"
   ]
  },
  {
   "cell_type": "code",
   "execution_count": null,
   "id": "a092f911",
   "metadata": {},
   "outputs": [],
   "source": []
  }
 ],
 "metadata": {
  "kernelspec": {
   "display_name": "Python 3 (ipykernel)",
   "language": "python",
   "name": "python3"
  },
  "language_info": {
   "codemirror_mode": {
    "name": "ipython",
    "version": 3
   },
   "file_extension": ".py",
   "mimetype": "text/x-python",
   "name": "python",
   "nbconvert_exporter": "python",
   "pygments_lexer": "ipython3",
   "version": "3.9.9"
  }
 },
 "nbformat": 4,
 "nbformat_minor": 5
}
